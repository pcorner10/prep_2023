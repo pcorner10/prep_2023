{
 "cells": [
  {
   "cell_type": "code",
   "execution_count": 2,
   "metadata": {},
   "outputs": [],
   "source": [
    "import os, glob "
   ]
  },
  {
   "cell_type": "code",
   "execution_count": null,
   "metadata": {},
   "outputs": [],
   "source": [
    "str = \"native:zonalstatisticsfb\", {'INPUT':'memory://MultiPolygon?crs=EPSG:32613&field=fid:long(0,0)&field=CVEGEO:string(13,0)&field=CVE_ENT:string(2,0)&field=CVE_MUN:string(3,0)&field=CVE_LOC:string(4,0)&field=CVE_AGEB:string(4,0)&field=_count:double(0,0)&field=_sum:double(0,0)&field=_mean:double(0,0)&uid={d9b00567-6f93-4353-9bb5-dafc436475a2}','INPUT_RASTER':'C:/Users/pedro/Documents/workspace/prep_2023/data/Rasters/Hydraulic/Depth____4800.0.asc','RASTER_BAND':1,'COLUMN_PREFIX':'_','STATISTICS':[0,1,2],'OUTPUT':'C:/Users/pedro/Documents/workspace/prep_2023/data/zonalStats/depth_4800.gpkg'}\n"
   ]
  },
  {
   "cell_type": "code",
   "execution_count": null,
   "metadata": {},
   "outputs": [],
   "source": [
    "{'INPUT_RASTER':'C:/Users/pedro/Documents/workspace/prep_2023/data/Rasters/Hydraulic/Depth____4800.0.asc','OUTPUT':'C:/Users/pedro/Documents/workspace/prep_2023/data/zonalStats/depth_4800.gpkg'}"
   ]
  },
  {
   "cell_type": "code",
   "execution_count": 3,
   "metadata": {},
   "outputs": [
    {
     "data": {
      "text/plain": [
       "['data/Rasters\\\\Hydraulic\\\\Depth____0.0.asc',\n",
       " 'data/Rasters\\\\Hydraulic\\\\Depth____10200.0.asc',\n",
       " 'data/Rasters\\\\Hydraulic\\\\Depth____10500.0.asc',\n",
       " 'data/Rasters\\\\Hydraulic\\\\Depth____10800.0.asc',\n",
       " 'data/Rasters\\\\Hydraulic\\\\Depth____11100.0.asc']"
      ]
     },
     "execution_count": 3,
     "metadata": {},
     "output_type": "execute_result"
    }
   ],
   "source": [
    "input_rasters = glob.glob(\"data/Rasters/*/*.asc\")\n",
    "input_rasters[:5]"
   ]
  },
  {
   "cell_type": "code",
   "execution_count": 5,
   "metadata": {},
   "outputs": [],
   "source": [
    "input_rasters = [i.replace(\"\\\\\", \"/\") for i in input_rasters]\n",
    "input_rasters\n",
    "\n",
    "# save input_rasters to a csv file\n",
    "import csv\n",
    "with open('input_rasters.csv', 'w', newline='') as myfile:\n",
    "    wr = csv.writer(myfile, quoting=csv.QUOTE_ALL)\n",
    "    wr.writerow(input_rasters)\n"
   ]
  },
  {
   "cell_type": "code",
   "execution_count": 13,
   "metadata": {},
   "outputs": [
    {
     "data": {
      "text/plain": [
       "('Hydraulic/Depth____0.0.asc', 'Depth____0.0.gpkg')"
      ]
     },
     "execution_count": 13,
     "metadata": {},
     "output_type": "execute_result"
    }
   ],
   "source": [
    "def takeInfo(src):\n",
    "  loc = src.split(\"\\\\\")\n",
    "  input = loc[1] + \"/\" + loc[2]\n",
    "  output = loc[2][:-4]+\".gpkg\"\n",
    "  return input, output\n",
    "\n",
    "takeInfo(input_rasters[0])"
   ]
  },
  {
   "cell_type": "code",
   "execution_count": null,
   "metadata": {},
   "outputs": [],
   "source": [
    "dict_json = \n",
    "{\"PARAMETERS\": {\n",
    "    \"INPUT\": \"'C:/Users/pedro/Documents/workspace/prep_2023/data/colima/agebs_repro.gpkg|layername=reproyectada'\", \n",
    "    \"INPUT_RASTER\": \"'C:/Users/pedro/Documents/workspace/prep_2023/data/Rasters/Hydraulic/Depth____4800.0.asc'\", \n",
    "    \"RASTER_BAND\": \"1\", \n",
    "    \"COLUMN_PREFIX\": \"'_'\", \n",
    "    \"STATISTICS\": \"[0,1,2]\"}, \n",
    "  \"OUTPUTS\": {\n",
    "    \"OUTPUT\": \"C:/Users/pedro/Documents/workspace/prep_2023/data/zonalStats/depth_4800.gpkg\"}},\n",
    "{\"PARAMETERS\": {\"INPUT\": \"'C:/Users/pedro/Documents/workspace/prep_2023/data/colima/agebs_repro.gpkg|layername=reproyectada'\", \"INPUT_RASTER\": \"'C:/Users/pedro/Documents/workspace/prep_2023/data/Rasters/Hydraulic/Depth____4800.0.asc'\", \"RASTER_BAND\": \"1\", \"COLUMN_PREFIX\": \"'_'\", \"STATISTICS\": \"[0,1,2]\"}, \"OUTPUTS\": {\"OUTPUT\": \"C:/Users/pedro/Documents/workspace/prep_2023/data/zonalStats/depth_9000.gpkg\"}}"
   ]
  }
 ],
 "metadata": {
  "kernelspec": {
   "display_name": "Python 3",
   "language": "python",
   "name": "python3"
  },
  "language_info": {
   "codemirror_mode": {
    "name": "ipython",
    "version": 3
   },
   "file_extension": ".py",
   "mimetype": "text/x-python",
   "name": "python",
   "nbconvert_exporter": "python",
   "pygments_lexer": "ipython3",
   "version": "3.11.2"
  },
  "orig_nbformat": 4
 },
 "nbformat": 4,
 "nbformat_minor": 2
}
