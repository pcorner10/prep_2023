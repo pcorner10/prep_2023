{
 "cells": [
  {
   "attachments": {},
   "cell_type": "markdown",
   "metadata": {},
   "source": [
    "# Procesamiento de infraestructura critica"
   ]
  },
  {
   "attachments": {},
   "cell_type": "markdown",
   "metadata": {},
   "source": [
    "## Importamos librerias"
   ]
  },
  {
   "cell_type": "code",
   "execution_count": 2,
   "metadata": {},
   "outputs": [],
   "source": [
    "import geopandas as gpd\n",
    "import pandas as pd\n",
    "import numpy as np\n",
    "import matplotlib.pyplot as plt\n",
    "import seaborn as sns\n",
    "import glob, os"
   ]
  },
  {
   "attachments": {},
   "cell_type": "markdown",
   "metadata": {},
   "source": [
    "## Zona limite"
   ]
  },
  {
   "cell_type": "code",
   "execution_count": 66,
   "metadata": {},
   "outputs": [
    {
     "data": {
      "text/plain": [
       "<AxesSubplot: >"
      ]
     },
     "execution_count": 66,
     "metadata": {},
     "output_type": "execute_result"
    },
    {
     "data": {
      "image/png": "[encoded data removed]",
      "text/plain": [
       "<Figure size 640x480 with 1 Axes>"
      ]
     },
     "metadata": {},
     "output_type": "display_data"
    }
   ],
   "source": [
    "limite = gpd.read_file('qgis\\zona_limite.gpkg')\n",
    "limite.plot()"
   ]
  },
  {
   "attachments": {},
   "cell_type": "markdown",
   "metadata": {},
   "source": [
    "## Direcciones de archivos DENUE"
   ]
  },
  {
   "cell_type": "code",
   "execution_count": 39,
   "metadata": {},
   "outputs": [
    {
     "data": {
      "text/plain": [
       "['data/denue\\\\10_denue_06_2013_shp\\\\DENUE_Nacional_06.shp',\n",
       " 'data/denue\\\\12_denue_06_25022015_shp\\\\DENUE_INEGI_06_.shp',\n",
       " 'data/denue\\\\2_denue_06_2010_shp\\\\DENUE Colima.shp',\n",
       " 'data/denue\\\\4_denue_06_2011_shp\\\\denue1106c_06.shp',\n",
       " 'data/denue\\\\6_denue_06_2012_shp\\\\denue_1_06.shp']"
      ]
     },
     "execution_count": 39,
     "metadata": {},
     "output_type": "execute_result"
    }
   ],
   "source": [
    "denue_files = glob.glob(\"data/denue/*/*.shp\")\n",
    "denue_files[:5]"
   ]
  },
  {
   "cell_type": "code",
   "execution_count": 96,
   "metadata": {},
   "outputs": [
    {
     "data": {
      "text/plain": [
       "['data/denue\\\\20_denue_06_1117_shp\\\\conjunto_de_datos\\\\denue_inegi_06_.shp',\n",
       " 'data/denue\\\\22_denue_06_0318_shp\\\\conjunto_de_datos\\\\denue_inegi_06_.shp',\n",
       " 'data/denue\\\\24_denue_06_1118_shp\\\\conjunto_de_datos\\\\denue_inegi_06_.shp',\n",
       " 'data/denue\\\\26_denue_06_0419_shp\\\\conjunto_de_datos\\\\denue_inegi_06_.shp',\n",
       " 'data/denue\\\\28_denue_06_1119_shp\\\\conjunto_de_datos\\\\denue_inegi_06_.shp',\n",
       " 'data/denue\\\\30_denue_06_0420_shp\\\\conjunto_de_datos\\\\denue_inegi_06_.shp',\n",
       " 'data/denue\\\\32_denue_06_1120_shp\\\\conjunto_de_datos\\\\denue_inegi_06_.shp',\n",
       " 'data/denue\\\\34_denue_06_0521_shp\\\\conjunto_de_datos\\\\denue_inegi_06_.shp',\n",
       " 'data/denue\\\\36_denue_06_1121_shp\\\\conjunto_de_datos\\\\denue_inegi_06_.shp',\n",
       " 'data/denue\\\\38_denue_06_0522_shp\\\\conjunto_de_datos\\\\denue_inegi_06_.shp',\n",
       " 'data/denue\\\\40_denue_06_shp\\\\conjunto_de_datos\\\\denue_inegi_06_.shp']"
      ]
     },
     "execution_count": 96,
     "metadata": {},
     "output_type": "execute_result"
    }
   ],
   "source": [
    "denue_files2 = glob.glob(\"data/denue/*/conjunto_de_datos/*.shp\")\n",
    "denue_files2"
   ]
  },
  {
   "cell_type": "code",
   "execution_count": 97,
   "metadata": {},
   "outputs": [],
   "source": [
    "denue_files = denue_files + denue_files2"
   ]
  },
  {
   "cell_type": "code",
   "execution_count": 95,
   "metadata": {},
   "outputs": [
    {
     "data": {
      "text/plain": [
       "6"
      ]
     },
     "execution_count": 95,
     "metadata": {},
     "output_type": "execute_result"
    }
   ],
   "source": [
    "len(denue_files)"
   ]
  },
  {
   "cell_type": "code",
   "execution_count": 98,
   "metadata": {},
   "outputs": [
    {
     "name": "stderr",
     "output_type": "stream",
     "text": [
      "C:\\Users\\pedro\\AppData\\Roaming\\Python\\Python310\\site-packages\\IPython\\core\\interactiveshell.py:3373: FutureWarning: The `op` parameter is deprecated and will be removed in a future release. Please use the `predicate` parameter instead.\n",
      "  if await self.run_code(code, result, async_=asy):\n"
     ]
    },
    {
     "name": "stdout",
     "output_type": "stream",
     "text": [
      "(174, 46)\n"
     ]
    },
    {
     "name": "stderr",
     "output_type": "stream",
     "text": [
      "C:\\Users\\pedro\\AppData\\Roaming\\Python\\Python310\\site-packages\\IPython\\core\\interactiveshell.py:3373: FutureWarning: The `op` parameter is deprecated and will be removed in a future release. Please use the `predicate` parameter instead.\n",
      "  if await self.run_code(code, result, async_=asy):\n"
     ]
    },
    {
     "name": "stdout",
     "output_type": "stream",
     "text": [
      "(203, 43)\n"
     ]
    },
    {
     "name": "stderr",
     "output_type": "stream",
     "text": [
      "C:\\Users\\pedro\\AppData\\Roaming\\Python\\Python310\\site-packages\\IPython\\core\\interactiveshell.py:3373: FutureWarning: The `op` parameter is deprecated and will be removed in a future release. Please use the `predicate` parameter instead.\n",
      "  if await self.run_code(code, result, async_=asy):\n"
     ]
    },
    {
     "name": "stdout",
     "output_type": "stream",
     "text": [
      "data/denue\\2_denue_06_2010_shp\\DENUE Colima.shp\n"
     ]
    },
    {
     "name": "stderr",
     "output_type": "stream",
     "text": [
      "C:\\Users\\pedro\\AppData\\Roaming\\Python\\Python310\\site-packages\\IPython\\core\\interactiveshell.py:3373: FutureWarning: The `op` parameter is deprecated and will be removed in a future release. Please use the `predicate` parameter instead.\n",
      "  if await self.run_code(code, result, async_=asy):\n"
     ]
    },
    {
     "name": "stdout",
     "output_type": "stream",
     "text": [
      "data/denue\\4_denue_06_2011_shp\\denue1106c_06.shp\n"
     ]
    },
    {
     "name": "stderr",
     "output_type": "stream",
     "text": [
      "C:\\Users\\pedro\\AppData\\Roaming\\Python\\Python310\\site-packages\\IPython\\core\\interactiveshell.py:3373: FutureWarning: The `op` parameter is deprecated and will be removed in a future release. Please use the `predicate` parameter instead.\n",
      "  if await self.run_code(code, result, async_=asy):\n"
     ]
    },
    {
     "name": "stdout",
     "output_type": "stream",
     "text": [
      "(0, 49)\n"
     ]
    },
    {
     "name": "stderr",
     "output_type": "stream",
     "text": [
      "C:\\Users\\pedro\\AppData\\Roaming\\Python\\Python310\\site-packages\\IPython\\core\\interactiveshell.py:3373: FutureWarning: The `op` parameter is deprecated and will be removed in a future release. Please use the `predicate` parameter instead.\n",
      "  if await self.run_code(code, result, async_=asy):\n"
     ]
    },
    {
     "name": "stdout",
     "output_type": "stream",
     "text": [
      "(174, 30)\n"
     ]
    },
    {
     "name": "stderr",
     "output_type": "stream",
     "text": [
      "C:\\Users\\pedro\\AppData\\Roaming\\Python\\Python310\\site-packages\\IPython\\core\\interactiveshell.py:3373: FutureWarning: The `op` parameter is deprecated and will be removed in a future release. Please use the `predicate` parameter instead.\n",
      "  if await self.run_code(code, result, async_=asy):\n"
     ]
    },
    {
     "name": "stdout",
     "output_type": "stream",
     "text": [
      "(193, 43)\n"
     ]
    },
    {
     "name": "stderr",
     "output_type": "stream",
     "text": [
      "C:\\Users\\pedro\\AppData\\Roaming\\Python\\Python310\\site-packages\\IPython\\core\\interactiveshell.py:3373: FutureWarning: The `op` parameter is deprecated and will be removed in a future release. Please use the `predicate` parameter instead.\n",
      "  if await self.run_code(code, result, async_=asy):\n"
     ]
    },
    {
     "name": "stdout",
     "output_type": "stream",
     "text": [
      "(192, 43)\n"
     ]
    },
    {
     "name": "stderr",
     "output_type": "stream",
     "text": [
      "C:\\Users\\pedro\\AppData\\Roaming\\Python\\Python310\\site-packages\\IPython\\core\\interactiveshell.py:3373: FutureWarning: The `op` parameter is deprecated and will be removed in a future release. Please use the `predicate` parameter instead.\n",
      "  if await self.run_code(code, result, async_=asy):\n"
     ]
    },
    {
     "name": "stdout",
     "output_type": "stream",
     "text": [
      "(192, 43)\n"
     ]
    },
    {
     "name": "stderr",
     "output_type": "stream",
     "text": [
      "C:\\Users\\pedro\\AppData\\Roaming\\Python\\Python310\\site-packages\\IPython\\core\\interactiveshell.py:3373: FutureWarning: The `op` parameter is deprecated and will be removed in a future release. Please use the `predicate` parameter instead.\n",
      "  if await self.run_code(code, result, async_=asy):\n"
     ]
    },
    {
     "name": "stdout",
     "output_type": "stream",
     "text": [
      "(193, 43)\n"
     ]
    },
    {
     "name": "stderr",
     "output_type": "stream",
     "text": [
      "C:\\Users\\pedro\\AppData\\Roaming\\Python\\Python310\\site-packages\\IPython\\core\\interactiveshell.py:3373: FutureWarning: The `op` parameter is deprecated and will be removed in a future release. Please use the `predicate` parameter instead.\n",
      "  if await self.run_code(code, result, async_=asy):\n"
     ]
    },
    {
     "name": "stdout",
     "output_type": "stream",
     "text": [
      "(194, 43)\n"
     ]
    },
    {
     "name": "stderr",
     "output_type": "stream",
     "text": [
      "C:\\Users\\pedro\\AppData\\Roaming\\Python\\Python310\\site-packages\\IPython\\core\\interactiveshell.py:3373: FutureWarning: The `op` parameter is deprecated and will be removed in a future release. Please use the `predicate` parameter instead.\n",
      "  if await self.run_code(code, result, async_=asy):\n"
     ]
    },
    {
     "name": "stdout",
     "output_type": "stream",
     "text": [
      "(203, 43)\n"
     ]
    },
    {
     "name": "stderr",
     "output_type": "stream",
     "text": [
      "C:\\Users\\pedro\\AppData\\Roaming\\Python\\Python310\\site-packages\\IPython\\core\\interactiveshell.py:3373: FutureWarning: The `op` parameter is deprecated and will be removed in a future release. Please use the `predicate` parameter instead.\n",
      "  if await self.run_code(code, result, async_=asy):\n"
     ]
    },
    {
     "name": "stdout",
     "output_type": "stream",
     "text": [
      "(206, 43)\n"
     ]
    },
    {
     "name": "stderr",
     "output_type": "stream",
     "text": [
      "C:\\Users\\pedro\\AppData\\Roaming\\Python\\Python310\\site-packages\\IPython\\core\\interactiveshell.py:3373: FutureWarning: The `op` parameter is deprecated and will be removed in a future release. Please use the `predicate` parameter instead.\n",
      "  if await self.run_code(code, result, async_=asy):\n"
     ]
    },
    {
     "name": "stdout",
     "output_type": "stream",
     "text": [
      "(189, 44)\n"
     ]
    },
    {
     "name": "stderr",
     "output_type": "stream",
     "text": [
      "C:\\Users\\pedro\\AppData\\Roaming\\Python\\Python310\\site-packages\\IPython\\core\\interactiveshell.py:3373: FutureWarning: The `op` parameter is deprecated and will be removed in a future release. Please use the `predicate` parameter instead.\n",
      "  if await self.run_code(code, result, async_=asy):\n"
     ]
    },
    {
     "name": "stdout",
     "output_type": "stream",
     "text": [
      "(185, 44)\n"
     ]
    },
    {
     "name": "stderr",
     "output_type": "stream",
     "text": [
      "C:\\Users\\pedro\\AppData\\Roaming\\Python\\Python310\\site-packages\\IPython\\core\\interactiveshell.py:3373: FutureWarning: The `op` parameter is deprecated and will be removed in a future release. Please use the `predicate` parameter instead.\n",
      "  if await self.run_code(code, result, async_=asy):\n"
     ]
    },
    {
     "name": "stdout",
     "output_type": "stream",
     "text": [
      "(185, 44)\n",
      "(189, 44)\n"
     ]
    },
    {
     "name": "stderr",
     "output_type": "stream",
     "text": [
      "C:\\Users\\pedro\\AppData\\Roaming\\Python\\Python310\\site-packages\\IPython\\core\\interactiveshell.py:3373: FutureWarning: The `op` parameter is deprecated and will be removed in a future release. Please use the `predicate` parameter instead.\n",
      "  if await self.run_code(code, result, async_=asy):\n"
     ]
    },
    {
     "data": {
      "text/html": [
       "<div>\n",
       "<style scoped>\n",
       "    .dataframe tbody tr th:only-of-type {\n",
       "        vertical-align: middle;\n",
       "    }\n",
       "\n",
       "    .dataframe tbody tr th {\n",
       "        vertical-align: top;\n",
       "    }\n",
       "\n",
       "    .dataframe thead th {\n",
       "        text-align: right;\n",
       "    }\n",
       "</style>\n",
       "<table border=\"1\" class=\"dataframe\">\n",
       "  <thead>\n",
       "    <tr style=\"text-align: right;\">\n",
       "      <th></th>\n",
       "      <th>d_llave</th>\n",
       "      <th>cve_ent</th>\n",
       "      <th>entidad</th>\n",
       "      <th>cve_mun</th>\n",
       "      <th>municipio</th>\n",
       "      <th>cve_loc</th>\n",
       "      <th>localidad</th>\n",
       "      <th>ageb</th>\n",
       "      <th>manzana</th>\n",
       "      <th>nom_estab</th>\n",
       "      <th>...</th>\n",
       "      <th>nomb_asent</th>\n",
       "      <th>tipocencom</th>\n",
       "      <th>nom_cencom</th>\n",
       "      <th>telefono</th>\n",
       "      <th>tipounieco</th>\n",
       "      <th>fecha_alta</th>\n",
       "      <th>nic</th>\n",
       "      <th>nop</th>\n",
       "      <th>tipo_ue</th>\n",
       "      <th>clee</th>\n",
       "    </tr>\n",
       "  </thead>\n",
       "  <tbody>\n",
       "    <tr>\n",
       "      <th>362</th>\n",
       "      <td>3513760.0</td>\n",
       "      <td>06</td>\n",
       "      <td>COLIMA</td>\n",
       "      <td>002</td>\n",
       "      <td>COLIMA</td>\n",
       "      <td>0001</td>\n",
       "      <td>Colima</td>\n",
       "      <td>0746</td>\n",
       "      <td>028</td>\n",
       "      <td>FARMACIA DE LA CRUZ</td>\n",
       "      <td>...</td>\n",
       "      <td>NaN</td>\n",
       "      <td>NaN</td>\n",
       "      <td>NaN</td>\n",
       "      <td>NaN</td>\n",
       "      <td>NaN</td>\n",
       "      <td>NaN</td>\n",
       "      <td>NaN</td>\n",
       "      <td>NaN</td>\n",
       "      <td>NaN</td>\n",
       "      <td>NaN</td>\n",
       "    </tr>\n",
       "    <tr>\n",
       "      <th>453</th>\n",
       "      <td>2574899.0</td>\n",
       "      <td>06</td>\n",
       "      <td>COLIMA</td>\n",
       "      <td>002</td>\n",
       "      <td>COLIMA</td>\n",
       "      <td>0001</td>\n",
       "      <td>Colima</td>\n",
       "      <td>1458</td>\n",
       "      <td>016</td>\n",
       "      <td>FARMACIA GENERICOS MI SALUD</td>\n",
       "      <td>...</td>\n",
       "      <td>NaN</td>\n",
       "      <td>NaN</td>\n",
       "      <td>NaN</td>\n",
       "      <td>NaN</td>\n",
       "      <td>NaN</td>\n",
       "      <td>NaN</td>\n",
       "      <td>NaN</td>\n",
       "      <td>NaN</td>\n",
       "      <td>NaN</td>\n",
       "      <td>NaN</td>\n",
       "    </tr>\n",
       "    <tr>\n",
       "      <th>581</th>\n",
       "      <td>4185355.0</td>\n",
       "      <td>06</td>\n",
       "      <td>COLIMA</td>\n",
       "      <td>002</td>\n",
       "      <td>COLIMA</td>\n",
       "      <td>0001</td>\n",
       "      <td>Colima</td>\n",
       "      <td>0746</td>\n",
       "      <td>034</td>\n",
       "      <td>FARMACIA GUADALUPANA DE COLIMA</td>\n",
       "      <td>...</td>\n",
       "      <td>NaN</td>\n",
       "      <td>NaN</td>\n",
       "      <td>NaN</td>\n",
       "      <td>NaN</td>\n",
       "      <td>NaN</td>\n",
       "      <td>NaN</td>\n",
       "      <td>NaN</td>\n",
       "      <td>NaN</td>\n",
       "      <td>NaN</td>\n",
       "      <td>NaN</td>\n",
       "    </tr>\n",
       "    <tr>\n",
       "      <th>980</th>\n",
       "      <td>4186049.0</td>\n",
       "      <td>06</td>\n",
       "      <td>COLIMA</td>\n",
       "      <td>002</td>\n",
       "      <td>COLIMA</td>\n",
       "      <td>0001</td>\n",
       "      <td>Colima</td>\n",
       "      <td>0746</td>\n",
       "      <td>028</td>\n",
       "      <td>FARMACIAS GUADALAJARA</td>\n",
       "      <td>...</td>\n",
       "      <td>NaN</td>\n",
       "      <td>NaN</td>\n",
       "      <td>NaN</td>\n",
       "      <td>NaN</td>\n",
       "      <td>NaN</td>\n",
       "      <td>NaN</td>\n",
       "      <td>NaN</td>\n",
       "      <td>NaN</td>\n",
       "      <td>NaN</td>\n",
       "      <td>NaN</td>\n",
       "    </tr>\n",
       "    <tr>\n",
       "      <th>987</th>\n",
       "      <td>2935124.0</td>\n",
       "      <td>06</td>\n",
       "      <td>COLIMA</td>\n",
       "      <td>002</td>\n",
       "      <td>COLIMA</td>\n",
       "      <td>0001</td>\n",
       "      <td>Colima</td>\n",
       "      <td>0746</td>\n",
       "      <td>022</td>\n",
       "      <td>FARMACIA ZAPOTLAN</td>\n",
       "      <td>...</td>\n",
       "      <td>NaN</td>\n",
       "      <td>NaN</td>\n",
       "      <td>NaN</td>\n",
       "      <td>NaN</td>\n",
       "      <td>NaN</td>\n",
       "      <td>NaN</td>\n",
       "      <td>NaN</td>\n",
       "      <td>NaN</td>\n",
       "      <td>NaN</td>\n",
       "      <td>NaN</td>\n",
       "    </tr>\n",
       "    <tr>\n",
       "      <th>...</th>\n",
       "      <td>...</td>\n",
       "      <td>...</td>\n",
       "      <td>...</td>\n",
       "      <td>...</td>\n",
       "      <td>...</td>\n",
       "      <td>...</td>\n",
       "      <td>...</td>\n",
       "      <td>...</td>\n",
       "      <td>...</td>\n",
       "      <td>...</td>\n",
       "      <td>...</td>\n",
       "      <td>...</td>\n",
       "      <td>...</td>\n",
       "      <td>...</td>\n",
       "      <td>...</td>\n",
       "      <td>...</td>\n",
       "      <td>...</td>\n",
       "      <td>...</td>\n",
       "      <td>...</td>\n",
       "      <td>...</td>\n",
       "      <td>...</td>\n",
       "    </tr>\n",
       "    <tr>\n",
       "      <th>29921</th>\n",
       "      <td>NaN</td>\n",
       "      <td>06</td>\n",
       "      <td>Colima</td>\n",
       "      <td>002</td>\n",
       "      <td>Colima</td>\n",
       "      <td>0001</td>\n",
       "      <td>Colima</td>\n",
       "      <td>1528</td>\n",
       "      <td>019</td>\n",
       "      <td>ESCUELA JOSE S BENITEZ ESPINOSA TURNO VESPERTINO</td>\n",
       "      <td>...</td>\n",
       "      <td>LA ALBARRADA</td>\n",
       "      <td>None</td>\n",
       "      <td>None</td>\n",
       "      <td>3123132836</td>\n",
       "      <td>Fijo</td>\n",
       "      <td>2010-07</td>\n",
       "      <td>NaN</td>\n",
       "      <td>NaN</td>\n",
       "      <td>NaN</td>\n",
       "      <td>06002611122000713000000000U1</td>\n",
       "    </tr>\n",
       "    <tr>\n",
       "      <th>29940</th>\n",
       "      <td>NaN</td>\n",
       "      <td>06</td>\n",
       "      <td>Colima</td>\n",
       "      <td>002</td>\n",
       "      <td>Colima</td>\n",
       "      <td>0001</td>\n",
       "      <td>Colima</td>\n",
       "      <td>1528</td>\n",
       "      <td>019</td>\n",
       "      <td>ESCUELA JOSE S BENITEZ ESPINOZATURNO MATUTINO</td>\n",
       "      <td>...</td>\n",
       "      <td>LA ALBARRADA</td>\n",
       "      <td>None</td>\n",
       "      <td>None</td>\n",
       "      <td>3123132836</td>\n",
       "      <td>Fijo</td>\n",
       "      <td>2010-07</td>\n",
       "      <td>NaN</td>\n",
       "      <td>NaN</td>\n",
       "      <td>NaN</td>\n",
       "      <td>06002611122000132000000000U4</td>\n",
       "    </tr>\n",
       "    <tr>\n",
       "      <th>29959</th>\n",
       "      <td>NaN</td>\n",
       "      <td>06</td>\n",
       "      <td>Colima</td>\n",
       "      <td>002</td>\n",
       "      <td>Colima</td>\n",
       "      <td>0001</td>\n",
       "      <td>Colima</td>\n",
       "      <td>1227</td>\n",
       "      <td>037</td>\n",
       "      <td>ESCUELA DE NATACION AQUA</td>\n",
       "      <td>...</td>\n",
       "      <td>RESIDENCIAL ESMERALDA NORTE</td>\n",
       "      <td>None</td>\n",
       "      <td>None</td>\n",
       "      <td>None</td>\n",
       "      <td>Fijo</td>\n",
       "      <td>2019-11</td>\n",
       "      <td>NaN</td>\n",
       "      <td>NaN</td>\n",
       "      <td>NaN</td>\n",
       "      <td>06002611621000282000000000U8</td>\n",
       "    </tr>\n",
       "    <tr>\n",
       "      <th>29965</th>\n",
       "      <td>NaN</td>\n",
       "      <td>06</td>\n",
       "      <td>Colima</td>\n",
       "      <td>002</td>\n",
       "      <td>Colima</td>\n",
       "      <td>0001</td>\n",
       "      <td>Colima</td>\n",
       "      <td>0746</td>\n",
       "      <td>018</td>\n",
       "      <td>ESCUELA DE MUSICA STACCATO</td>\n",
       "      <td>...</td>\n",
       "      <td>CENTRO</td>\n",
       "      <td>None</td>\n",
       "      <td>None</td>\n",
       "      <td>None</td>\n",
       "      <td>Fijo</td>\n",
       "      <td>2019-11</td>\n",
       "      <td>NaN</td>\n",
       "      <td>NaN</td>\n",
       "      <td>NaN</td>\n",
       "      <td>06002611611000142000000000U5</td>\n",
       "    </tr>\n",
       "    <tr>\n",
       "      <th>29997</th>\n",
       "      <td>NaN</td>\n",
       "      <td>06</td>\n",
       "      <td>Colima</td>\n",
       "      <td>002</td>\n",
       "      <td>Colima</td>\n",
       "      <td>0001</td>\n",
       "      <td>Colima</td>\n",
       "      <td>1072</td>\n",
       "      <td>014</td>\n",
       "      <td>ESCUELA DE INGLS FROGGIN</td>\n",
       "      <td>...</td>\n",
       "      <td>SANTA BARBARA</td>\n",
       "      <td>None</td>\n",
       "      <td>None</td>\n",
       "      <td>None</td>\n",
       "      <td>Fijo</td>\n",
       "      <td>2022-11</td>\n",
       "      <td>NaN</td>\n",
       "      <td>NaN</td>\n",
       "      <td>NaN</td>\n",
       "      <td>06002611631000202000000000U5</td>\n",
       "    </tr>\n",
       "  </tbody>\n",
       "</table>\n",
       "<p>2672 rows × 72 columns</p>\n",
       "</div>"
      ],
      "text/plain": [
       "         d_llave cve_ent entidad cve_mun municipio cve_loc localidad  ageb  \\\n",
       "362    3513760.0      06  COLIMA     002    COLIMA    0001    Colima  0746   \n",
       "453    2574899.0      06  COLIMA     002    COLIMA    0001    Colima  1458   \n",
       "581    4185355.0      06  COLIMA     002    COLIMA    0001    Colima  0746   \n",
       "980    4186049.0      06  COLIMA     002    COLIMA    0001    Colima  0746   \n",
       "987    2935124.0      06  COLIMA     002    COLIMA    0001    Colima  0746   \n",
       "...          ...     ...     ...     ...       ...     ...       ...   ...   \n",
       "29921        NaN      06  Colima     002    Colima    0001    Colima  1528   \n",
       "29940        NaN      06  Colima     002    Colima    0001    Colima  1528   \n",
       "29959        NaN      06  Colima     002    Colima    0001    Colima  1227   \n",
       "29965        NaN      06  Colima     002    Colima    0001    Colima  0746   \n",
       "29997        NaN      06  Colima     002    Colima    0001    Colima  1072   \n",
       "\n",
       "      manzana                                         nom_estab  ...  \\\n",
       "362       028                               FARMACIA DE LA CRUZ  ...   \n",
       "453       016                       FARMACIA GENERICOS MI SALUD  ...   \n",
       "581       034                    FARMACIA GUADALUPANA DE COLIMA  ...   \n",
       "980       028                             FARMACIAS GUADALAJARA  ...   \n",
       "987       022                                 FARMACIA ZAPOTLAN  ...   \n",
       "...       ...                                               ...  ...   \n",
       "29921     019  ESCUELA JOSE S BENITEZ ESPINOSA TURNO VESPERTINO  ...   \n",
       "29940     019     ESCUELA JOSE S BENITEZ ESPINOZATURNO MATUTINO  ...   \n",
       "29959     037                          ESCUELA DE NATACION AQUA  ...   \n",
       "29965     018                        ESCUELA DE MUSICA STACCATO  ...   \n",
       "29997     014                          ESCUELA DE INGLS FROGGIN  ...   \n",
       "\n",
       "                        nomb_asent tipocencom nom_cencom    telefono  \\\n",
       "362                            NaN        NaN        NaN         NaN   \n",
       "453                            NaN        NaN        NaN         NaN   \n",
       "581                            NaN        NaN        NaN         NaN   \n",
       "980                            NaN        NaN        NaN         NaN   \n",
       "987                            NaN        NaN        NaN         NaN   \n",
       "...                            ...        ...        ...         ...   \n",
       "29921                 LA ALBARRADA       None       None  3123132836   \n",
       "29940                 LA ALBARRADA       None       None  3123132836   \n",
       "29959  RESIDENCIAL ESMERALDA NORTE       None       None        None   \n",
       "29965                       CENTRO       None       None        None   \n",
       "29997                SANTA BARBARA       None       None        None   \n",
       "\n",
       "      tipounieco fecha_alta  nic  nop tipo_ue                          clee  \n",
       "362          NaN        NaN  NaN  NaN     NaN                           NaN  \n",
       "453          NaN        NaN  NaN  NaN     NaN                           NaN  \n",
       "581          NaN        NaN  NaN  NaN     NaN                           NaN  \n",
       "980          NaN        NaN  NaN  NaN     NaN                           NaN  \n",
       "987          NaN        NaN  NaN  NaN     NaN                           NaN  \n",
       "...          ...        ...  ...  ...     ...                           ...  \n",
       "29921       Fijo    2010-07  NaN  NaN     NaN  06002611122000713000000000U1  \n",
       "29940       Fijo    2010-07  NaN  NaN     NaN  06002611122000132000000000U4  \n",
       "29959       Fijo    2019-11  NaN  NaN     NaN  06002611621000282000000000U8  \n",
       "29965       Fijo    2019-11  NaN  NaN     NaN  06002611611000142000000000U5  \n",
       "29997       Fijo    2022-11  NaN  NaN     NaN  06002611631000202000000000U5  \n",
       "\n",
       "[2672 rows x 72 columns]"
      ]
     },
     "execution_count": 98,
     "metadata": {},
     "output_type": "execute_result"
    }
   ],
   "source": [
    "df_full = gpd.GeoDataFrame()\n",
    "for f in denue_files:\n",
    "  gdf = gpd.read_file(f)\n",
    "  \n",
    "  # columns to lowercase\n",
    "  gdf.columns = [x.lower() for x in gdf.columns]\n",
    "  limite.crs = gdf.crs\n",
    "  \n",
    "  gdf = gpd.sjoin(gdf, limite, how=\"inner\", op='intersects')\n",
    "  if gdf.shape[0] == 0:\n",
    "    print(f)\n",
    "    continue\n",
    "  #gdf = gdf[gdf['cve_mun'].isin([\"010\", \"002\"])]\n",
    "  try:\n",
    "    gdf = gdf[gdf['desc_act'].str.contains(\"Escuela|Farmacia|Hospital\")]\n",
    "  except:\n",
    "    gdf = gdf[gdf['nombre_act'].str.contains(\"Escuela|Farmacia|Hospital\")]\n",
    "    \n",
    "  \n",
    "  print(gdf.shape)\n",
    "  df_full = pd.concat([df_full, gdf], axis=0)\n",
    "  \n",
    "df_full"
   ]
  },
  {
   "cell_type": "code",
   "execution_count": 99,
   "metadata": {},
   "outputs": [],
   "source": [
    "df_full.to_file(\"data/denue_2023.gpkg\", driver=\"GPKG\")"
   ]
  },
  {
   "cell_type": "code",
   "execution_count": null,
   "metadata": {},
   "outputs": [],
   "source": []
  }
 ],
 "metadata": {
  "kernelspec": {
   "display_name": "Python 3",
   "language": "python",
   "name": "python3"
  },
  "language_info": {
   "codemirror_mode": {
    "name": "ipython",
    "version": 3
   },
   "file_extension": ".py",
   "mimetype": "text/x-python",
   "name": "python",
   "nbconvert_exporter": "python",
   "pygments_lexer": "ipython3",
   "version": "3.10.9"
  },
  "orig_nbformat": 4,
  "vscode": {
   "interpreter": {
    "hash": "c3503f95e0e8f4afdf6702396a7a2a29cae9f67572acfe092405dcaa2579b817"
   }
  }
 },
 "nbformat": 4,
 "nbformat_minor": 2
}
