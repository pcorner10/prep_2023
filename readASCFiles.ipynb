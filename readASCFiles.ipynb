{
 "cells": [
  {
   "attachments": {},
   "cell_type": "markdown",
   "metadata": {},
   "source": [
    "# Read ASC files"
   ]
  },
  {
   "attachments": {},
   "cell_type": "markdown",
   "metadata": {},
   "source": [
    "## Import libraries"
   ]
  },
  {
   "cell_type": "code",
   "execution_count": 15,
   "metadata": {},
   "outputs": [],
   "source": [
    "import glob, os\n",
    "import pandas as pd\n",
    "import numpy as np\n",
    "import matplotlib.pyplot as plt\n",
    "import geopandas as gpd\n",
    "import rasterio as rio\n",
    "from osgeo import gdal\n",
    "import numpy as np\n",
    "from osgeo import osr"
   ]
  },
  {
   "attachments": {},
   "cell_type": "markdown",
   "metadata": {},
   "source": [
    "## Read DENUE file"
   ]
  },
  {
   "cell_type": "code",
   "execution_count": 11,
   "metadata": {},
   "outputs": [
    {
     "data": {
      "text/html": [
       "<div>\n",
       "<style scoped>\n",
       "    .dataframe tbody tr th:only-of-type {\n",
       "        vertical-align: middle;\n",
       "    }\n",
       "\n",
       "    .dataframe tbody tr th {\n",
       "        vertical-align: top;\n",
       "    }\n",
       "\n",
       "    .dataframe thead th {\n",
       "        text-align: right;\n",
       "    }\n",
       "</style>\n",
       "<table border=\"1\" class=\"dataframe\">\n",
       "  <thead>\n",
       "    <tr style=\"text-align: right;\">\n",
       "      <th></th>\n",
       "      <th>CVE_AGEB</th>\n",
       "      <th>geometry</th>\n",
       "    </tr>\n",
       "  </thead>\n",
       "  <tbody>\n",
       "    <tr>\n",
       "      <th>0</th>\n",
       "      <td>0676</td>\n",
       "      <td>POLYGON ((2319182.093 807954.424, 2319286.446 ...</td>\n",
       "    </tr>\n",
       "    <tr>\n",
       "      <th>1</th>\n",
       "      <td>0727</td>\n",
       "      <td>POLYGON ((2318544.164 807545.878, 2318566.020 ...</td>\n",
       "    </tr>\n",
       "    <tr>\n",
       "      <th>2</th>\n",
       "      <td>1142</td>\n",
       "      <td>POLYGON ((2316882.335 805042.325, 2317096.142 ...</td>\n",
       "    </tr>\n",
       "    <tr>\n",
       "      <th>3</th>\n",
       "      <td>0411</td>\n",
       "      <td>POLYGON ((2319801.226 808675.655, 2319836.062 ...</td>\n",
       "    </tr>\n",
       "    <tr>\n",
       "      <th>4</th>\n",
       "      <td>1068</td>\n",
       "      <td>POLYGON ((2320222.167 809638.735, 2320222.724 ...</td>\n",
       "    </tr>\n",
       "  </tbody>\n",
       "</table>\n",
       "</div>"
      ],
      "text/plain": [
       "  CVE_AGEB                                           geometry\n",
       "0     0676  POLYGON ((2319182.093 807954.424, 2319286.446 ...\n",
       "1     0727  POLYGON ((2318544.164 807545.878, 2318566.020 ...\n",
       "2     1142  POLYGON ((2316882.335 805042.325, 2317096.142 ...\n",
       "3     0411  POLYGON ((2319801.226 808675.655, 2319836.062 ...\n",
       "4     1068  POLYGON ((2320222.167 809638.735, 2320222.724 ..."
      ]
     },
     "execution_count": 11,
     "metadata": {},
     "output_type": "execute_result"
    }
   ],
   "source": [
    "gpkg_gdf = gpd.read_file('data/colima/agebs.gpkg')\n",
    "gpkg_gdf = gpkg_gdf[[\"CVE_AGEB\", \"geometry\"]]\n",
    "gpkg_gdf.head()"
   ]
  },
  {
   "attachments": {},
   "cell_type": "markdown",
   "metadata": {},
   "source": [
    "## GDAL"
   ]
  },
  {
   "cell_type": "code",
   "execution_count": null,
   "metadata": {},
   "outputs": [],
   "source": []
  },
  {
   "attachments": {},
   "cell_type": "markdown",
   "metadata": {},
   "source": [
    "## Ubicación de los archivos ASC"
   ]
  },
  {
   "cell_type": "code",
   "execution_count": 4,
   "metadata": {},
   "outputs": [
    {
     "data": {
      "text/plain": [
       "['data/Rasters\\\\Hydraulic\\\\Depth____0.0.asc',\n",
       " 'data/Rasters\\\\Hydraulic\\\\Depth____10200.0.asc',\n",
       " 'data/Rasters\\\\Hydraulic\\\\Depth____10500.0.asc',\n",
       " 'data/Rasters\\\\Hydraulic\\\\Depth____10800.0.asc',\n",
       " 'data/Rasters\\\\Hydraulic\\\\Depth____11100.0.asc']"
      ]
     },
     "execution_count": 4,
     "metadata": {},
     "output_type": "execute_result"
    }
   ],
   "source": [
    "asc_files = glob.glob('data/Rasters/*/*.asc')\n",
    "asc_files[:5]"
   ]
  },
  {
   "attachments": {},
   "cell_type": "markdown",
   "metadata": {},
   "source": [
    "## GDAL"
   ]
  },
  {
   "cell_type": "code",
   "execution_count": 13,
   "metadata": {},
   "outputs": [],
   "source": [
    "# Open the ASC file as a GDAL dataset\n",
    "asc_ds = gdal.Open(asc_files[0])"
   ]
  },
  {
   "attachments": {},
   "cell_type": "markdown",
   "metadata": {},
   "source": [
    "### first method"
   ]
  },
  {
   "cell_type": "code",
   "execution_count": 10,
   "metadata": {},
   "outputs": [
    {
     "ename": "AttributeError",
     "evalue": "module 'osgeo.gdal' has no attribute 'polygonize'",
     "output_type": "error",
     "traceback": [
      "\u001b[1;31m---------------------------------------------------------------------------\u001b[0m",
      "\u001b[1;31mAttributeError\u001b[0m                            Traceback (most recent call last)",
      "Cell \u001b[1;32mIn[10], line 13\u001b[0m\n\u001b[0;32m      9\u001b[0m asc_ds \u001b[39m=\u001b[39m \u001b[39mNone\u001b[39;00m\n\u001b[0;32m     11\u001b[0m \u001b[39m# Create a GeoDataFrame from the ASC array, geotransform and projection\u001b[39;00m\n\u001b[0;32m     12\u001b[0m asc_gdf \u001b[39m=\u001b[39m gpd\u001b[39m.\u001b[39mGeoDataFrame\u001b[39m.\u001b[39mfrom_features(\n\u001b[1;32m---> 13\u001b[0m     gdal\u001b[39m.\u001b[39;49mpolygonize(asc_arr, \u001b[39mNone\u001b[39;00m, options\u001b[39m=\u001b[39m[\u001b[39m\"\u001b[39m\u001b[39m8CONNECTED=8\u001b[39m\u001b[39m\"\u001b[39m]),\n\u001b[0;32m     14\u001b[0m     crs\u001b[39m=\u001b[39masc_proj\n\u001b[0;32m     15\u001b[0m )\n\u001b[0;32m     17\u001b[0m \u001b[39m# Set the column name of the ASC values\u001b[39;00m\n\u001b[0;32m     18\u001b[0m asc_gdf\u001b[39m.\u001b[39mcolumns \u001b[39m=\u001b[39m [\u001b[39m\"\u001b[39m\u001b[39mvalue\u001b[39m\u001b[39m\"\u001b[39m, \u001b[39m\"\u001b[39m\u001b[39mgeometry\u001b[39m\u001b[39m\"\u001b[39m]\n",
      "\u001b[1;31mAttributeError\u001b[0m: module 'osgeo.gdal' has no attribute 'polygonize'"
     ]
    }
   ],
   "source": [
    "# Get the geotransform and projection of the ASC file\n",
    "asc_gt = asc_ds.GetGeoTransform()\n",
    "asc_proj = asc_ds.GetProjection()\n",
    "\n",
    "# Read the ASC file as a numpy array\n",
    "asc_arr = asc_ds.ReadAsArray()\n",
    "\n",
    "# Close the GDAL dataset\n",
    "asc_ds = None\n",
    "\n",
    "# Create a GeoDataFrame from the ASC array, geotransform and projection\n",
    "asc_gdf = gpd.GeoDataFrame.from_features(\n",
    "    gdal.polygonize(asc_arr, None, options=[\"8CONNECTED=8\"]),\n",
    "    crs=asc_proj\n",
    ")\n",
    "\n",
    "# Set the column name of the ASC values\n",
    "asc_gdf.columns = [\"value\", \"geometry\"]\n",
    "\n",
    "# Open the gpkg file as a GeoDataFrame\n",
    "#gpkg_gdf = gpd.read_file(\"file.gpkg\")\n",
    "\n",
    "# Perform a spatial join to extract the zones that intersect with the ASC file\n",
    "zones_gdf = gpd.sjoin(asc_gdf, gpkg_gdf, how=\"inner\", op=\"intersects\")\n",
    "\n",
    "# Save the zones as a new gpkg file\n",
    "zones_gdf.to_file(\"zones.gpkg\", driver=\"GPKG\")"
   ]
  },
  {
   "attachments": {},
   "cell_type": "markdown",
   "metadata": {},
   "source": [
    "### second method"
   ]
  },
  {
   "cell_type": "code",
   "execution_count": 16,
   "metadata": {},
   "outputs": [
    {
     "data": {
      "text/plain": [
       "5"
      ]
     },
     "execution_count": 16,
     "metadata": {},
     "output_type": "execute_result"
    }
   ],
   "source": [
    "# Get the spatial reference of the dataset and extract the projection information:\n",
    "proj_info = asc_ds.GetProjection()\n",
    "spatial_ref = osr.SpatialReference()\n",
    "spatial_ref.ImportFromWkt(proj_info)\n"
   ]
  },
  {
   "cell_type": "code",
   "execution_count": 17,
   "metadata": {},
   "outputs": [],
   "source": [
    "# Extract the geotransform of the dataset:\n",
    "geotransform = asc_ds.GetGeoTransform()\n"
   ]
  },
  {
   "cell_type": "code",
   "execution_count": 18,
   "metadata": {},
   "outputs": [],
   "source": [
    "# Read the data from the ASC file and convert it to a numpy array:\n",
    "data = asc_ds.ReadAsArray()"
   ]
  },
  {
   "cell_type": "code",
   "execution_count": 19,
   "metadata": {},
   "outputs": [],
   "source": [
    "# Identify the number of rows and columns in the dataset:\n",
    "rows, cols = data.shape"
   ]
  },
  {
   "cell_type": "code",
   "execution_count": 20,
   "metadata": {},
   "outputs": [],
   "source": [
    "# Compute the x and y coordinates for each cell in the dataset:\n",
    "\n",
    "x_coords = np.arange(cols) * geotransform[1] + geotransform[0]\n",
    "y_coords = np.arange(rows) * geotransform[5] + geotransform[3]"
   ]
  },
  {
   "cell_type": "code",
   "execution_count": 21,
   "metadata": {},
   "outputs": [],
   "source": [
    "# Create a meshgrid of the x and y coordinates:\n",
    "\n",
    "x_mesh, y_mesh = np.meshgrid(x_coords, y_coords)"
   ]
  },
  {
   "cell_type": "code",
   "execution_count": 24,
   "metadata": {},
   "outputs": [
    {
     "ename": "ModuleNotFoundError",
     "evalue": "No module named 'proj4'",
     "output_type": "error",
     "traceback": [
      "\u001b[1;31m---------------------------------------------------------------------------\u001b[0m",
      "\u001b[1;31mModuleNotFoundError\u001b[0m                       Traceback (most recent call last)",
      "Cell \u001b[1;32mIn[24], line 1\u001b[0m\n\u001b[1;32m----> 1\u001b[0m \u001b[39mimport\u001b[39;00m \u001b[39mproj4\u001b[39;00m\n",
      "\u001b[1;31mModuleNotFoundError\u001b[0m: No module named 'proj4'"
     ]
    }
   ],
   "source": [
    "import proj4"
   ]
  },
  {
   "cell_type": "code",
   "execution_count": 23,
   "metadata": {},
   "outputs": [
    {
     "ename": "TypeError",
     "evalue": "in method 'CoordinateTransformation_TransformPoints', argument 1 of type 'OSRCoordinateTransformationShadow *'",
     "output_type": "error",
     "traceback": [
      "\u001b[1;31m---------------------------------------------------------------------------\u001b[0m",
      "\u001b[1;31mTypeError\u001b[0m                                 Traceback (most recent call last)",
      "Cell \u001b[1;32mIn[23], line 2\u001b[0m\n\u001b[0;32m      1\u001b[0m \u001b[39m# Convert the x and y coordinates to the projection of the dataset:\u001b[39;00m\n\u001b[1;32m----> 2\u001b[0m x_proj, y_proj \u001b[39m=\u001b[39m osr\u001b[39m.\u001b[39;49mCoordinateTransformation(spatial_ref, spatial_ref)\u001b[39m.\u001b[39;49mTransformPoints((x_mesh\u001b[39m.\u001b[39;49mflatten(), y_mesh\u001b[39m.\u001b[39;49mflatten()))[:\u001b[39m2\u001b[39m]\n",
      "File \u001b[1;32mc:\\Users\\pedro\\AppData\\Local\\Programs\\Python\\Python311\\Lib\\site-packages\\osgeo\\osr.py:946\u001b[0m, in \u001b[0;36mCoordinateTransformation.TransformPoints\u001b[1;34m(self, *args)\u001b[0m\n\u001b[0;32m    944\u001b[0m \u001b[39mdef\u001b[39;00m \u001b[39mTransformPoints\u001b[39m(\u001b[39mself\u001b[39m, \u001b[39m*\u001b[39margs):\n\u001b[0;32m    945\u001b[0m \u001b[39m    \u001b[39m\u001b[39mr\u001b[39m\u001b[39m\"\"\"TransformPoints(CoordinateTransformation self, int nCount)\"\"\"\u001b[39;00m\n\u001b[1;32m--> 946\u001b[0m     \u001b[39mreturn\u001b[39;00m _osr\u001b[39m.\u001b[39;49mCoordinateTransformation_TransformPoints(\u001b[39mself\u001b[39;49m, \u001b[39m*\u001b[39;49margs)\n",
      "\u001b[1;31mTypeError\u001b[0m: in method 'CoordinateTransformation_TransformPoints', argument 1 of type 'OSRCoordinateTransformationShadow *'"
     ]
    }
   ],
   "source": [
    "# Convert the x and y coordinates to the projection of the dataset:\n",
    "x_proj, y_proj = osr.CoordinateTransformation(spatial_ref, spatial_ref).TransformPoints((x_mesh.flatten(), y_mesh.flatten()))[:2]\n"
   ]
  },
  {
   "cell_type": "code",
   "execution_count": null,
   "metadata": {},
   "outputs": [],
   "source": []
  }
 ],
 "metadata": {
  "kernelspec": {
   "display_name": "Python 3",
   "language": "python",
   "name": "python3"
  },
  "language_info": {
   "codemirror_mode": {
    "name": "ipython",
    "version": 3
   },
   "file_extension": ".py",
   "mimetype": "text/x-python",
   "name": "python",
   "nbconvert_exporter": "python",
   "pygments_lexer": "ipython3",
   "version": "3.11.2"
  },
  "orig_nbformat": 4,
  "vscode": {
   "interpreter": {
    "hash": "c3503f95e0e8f4afdf6702396a7a2a29cae9f67572acfe092405dcaa2579b817"
   }
  }
 },
 "nbformat": 4,
 "nbformat_minor": 2
}
