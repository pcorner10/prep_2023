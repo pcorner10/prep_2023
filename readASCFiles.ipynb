{
 "cells": [
  {
   "attachments": {},
   "cell_type": "markdown",
   "metadata": {},
   "source": [
    "# Read ASC files"
   ]
  },
  {
   "attachments": {},
   "cell_type": "markdown",
   "metadata": {},
   "source": [
    "## Import libraries"
   ]
  },
  {
   "cell_type": "code",
   "execution_count": 1,
   "metadata": {},
   "outputs": [],
   "source": [
    "import glob, os\n",
    "import pandas as pd\n",
    "import numpy as np\n",
    "import matplotlib.pyplot as plt\n",
    "import geopandas as gpd\n",
    "#import rasterio as rio\n",
    "from osgeo import gdal\n",
    "import numpy as np\n",
    "from osgeo import osr"
   ]
  },
  {
   "attachments": {},
   "cell_type": "markdown",
   "metadata": {},
   "source": [
    "## Read DENUE file"
   ]
  },
  {
   "cell_type": "code",
   "execution_count": 2,
   "metadata": {},
   "outputs": [
    {
     "data": {
      "text/html": [
       "<div>\n",
       "<style scoped>\n",
       "    .dataframe tbody tr th:only-of-type {\n",
       "        vertical-align: middle;\n",
       "    }\n",
       "\n",
       "    .dataframe tbody tr th {\n",
       "        vertical-align: top;\n",
       "    }\n",
       "\n",
       "    .dataframe thead th {\n",
       "        text-align: right;\n",
       "    }\n",
       "</style>\n",
       "<table border=\"1\" class=\"dataframe\">\n",
       "  <thead>\n",
       "    <tr style=\"text-align: right;\">\n",
       "      <th></th>\n",
       "      <th>CVE_AGEB</th>\n",
       "      <th>geometry</th>\n",
       "    </tr>\n",
       "  </thead>\n",
       "  <tbody>\n",
       "    <tr>\n",
       "      <th>0</th>\n",
       "      <td>0676</td>\n",
       "      <td>POLYGON ((2319182.093 807954.424, 2319286.446 ...</td>\n",
       "    </tr>\n",
       "    <tr>\n",
       "      <th>1</th>\n",
       "      <td>0727</td>\n",
       "      <td>POLYGON ((2318544.164 807545.878, 2318566.020 ...</td>\n",
       "    </tr>\n",
       "    <tr>\n",
       "      <th>2</th>\n",
       "      <td>1142</td>\n",
       "      <td>POLYGON ((2316882.335 805042.325, 2317096.142 ...</td>\n",
       "    </tr>\n",
       "    <tr>\n",
       "      <th>3</th>\n",
       "      <td>0411</td>\n",
       "      <td>POLYGON ((2319801.226 808675.655, 2319836.062 ...</td>\n",
       "    </tr>\n",
       "    <tr>\n",
       "      <th>4</th>\n",
       "      <td>1068</td>\n",
       "      <td>POLYGON ((2320222.167 809638.735, 2320222.724 ...</td>\n",
       "    </tr>\n",
       "  </tbody>\n",
       "</table>\n",
       "</div>"
      ],
      "text/plain": [
       "  CVE_AGEB                                           geometry\n",
       "0     0676  POLYGON ((2319182.093 807954.424, 2319286.446 ...\n",
       "1     0727  POLYGON ((2318544.164 807545.878, 2318566.020 ...\n",
       "2     1142  POLYGON ((2316882.335 805042.325, 2317096.142 ...\n",
       "3     0411  POLYGON ((2319801.226 808675.655, 2319836.062 ...\n",
       "4     1068  POLYGON ((2320222.167 809638.735, 2320222.724 ..."
      ]
     },
     "execution_count": 2,
     "metadata": {},
     "output_type": "execute_result"
    }
   ],
   "source": [
    "gpkg_gdf = gpd.read_file('data/colima/agebs.gpkg')\n",
    "gpkg_gdf = gpkg_gdf[[\"CVE_AGEB\", \"geometry\"]]\n",
    "gpkg_gdf.head()"
   ]
  },
  {
   "attachments": {},
   "cell_type": "markdown",
   "metadata": {},
   "source": [
    "## GDAL"
   ]
  },
  {
   "cell_type": "code",
   "execution_count": null,
   "metadata": {},
   "outputs": [],
   "source": []
  },
  {
   "attachments": {},
   "cell_type": "markdown",
   "metadata": {},
   "source": [
    "## Ubicación de los archivos ASC"
   ]
  },
  {
   "cell_type": "code",
   "execution_count": 3,
   "metadata": {},
   "outputs": [
    {
     "data": {
      "text/plain": [
       "['data/Rasters\\\\Hydraulic\\\\Depth____0.0.asc',\n",
       " 'data/Rasters\\\\Hydraulic\\\\Depth____10200.0.asc',\n",
       " 'data/Rasters\\\\Hydraulic\\\\Depth____10500.0.asc',\n",
       " 'data/Rasters\\\\Hydraulic\\\\Depth____10800.0.asc',\n",
       " 'data/Rasters\\\\Hydraulic\\\\Depth____11100.0.asc']"
      ]
     },
     "execution_count": 3,
     "metadata": {},
     "output_type": "execute_result"
    }
   ],
   "source": [
    "asc_files = glob.glob('data/Rasters/*/*.asc')\n",
    "asc_files[:5]"
   ]
  },
  {
   "attachments": {},
   "cell_type": "markdown",
   "metadata": {},
   "source": [
    "## GDAL"
   ]
  },
  {
   "cell_type": "code",
   "execution_count": 18,
   "metadata": {},
   "outputs": [],
   "source": [
    "# Open the ASC file as a GDAL dataset\n",
    "asc_ds = gdal.Open(asc_files[0])"
   ]
  },
  {
   "attachments": {},
   "cell_type": "markdown",
   "metadata": {},
   "source": [
    "### first method"
   ]
  },
  {
   "cell_type": "code",
   "execution_count": 10,
   "metadata": {},
   "outputs": [
    {
     "ename": "AttributeError",
     "evalue": "module 'osgeo.gdal' has no attribute 'polygonize'",
     "output_type": "error",
     "traceback": [
      "\u001b[1;31m---------------------------------------------------------------------------\u001b[0m",
      "\u001b[1;31mAttributeError\u001b[0m                            Traceback (most recent call last)",
      "Cell \u001b[1;32mIn[10], line 13\u001b[0m\n\u001b[0;32m      9\u001b[0m asc_ds \u001b[39m=\u001b[39m \u001b[39mNone\u001b[39;00m\n\u001b[0;32m     11\u001b[0m \u001b[39m# Create a GeoDataFrame from the ASC array, geotransform and projection\u001b[39;00m\n\u001b[0;32m     12\u001b[0m asc_gdf \u001b[39m=\u001b[39m gpd\u001b[39m.\u001b[39mGeoDataFrame\u001b[39m.\u001b[39mfrom_features(\n\u001b[1;32m---> 13\u001b[0m     gdal\u001b[39m.\u001b[39;49mpolygonize(asc_arr, \u001b[39mNone\u001b[39;00m, options\u001b[39m=\u001b[39m[\u001b[39m\"\u001b[39m\u001b[39m8CONNECTED=8\u001b[39m\u001b[39m\"\u001b[39m]),\n\u001b[0;32m     14\u001b[0m     crs\u001b[39m=\u001b[39masc_proj\n\u001b[0;32m     15\u001b[0m )\n\u001b[0;32m     17\u001b[0m \u001b[39m# Set the column name of the ASC values\u001b[39;00m\n\u001b[0;32m     18\u001b[0m asc_gdf\u001b[39m.\u001b[39mcolumns \u001b[39m=\u001b[39m [\u001b[39m\"\u001b[39m\u001b[39mvalue\u001b[39m\u001b[39m\"\u001b[39m, \u001b[39m\"\u001b[39m\u001b[39mgeometry\u001b[39m\u001b[39m\"\u001b[39m]\n",
      "\u001b[1;31mAttributeError\u001b[0m: module 'osgeo.gdal' has no attribute 'polygonize'"
     ]
    }
   ],
   "source": [
    "# Get the geotransform and projection of the ASC file\n",
    "asc_gt = asc_ds.GetGeoTransform()\n",
    "asc_proj = asc_ds.GetProjection()\n",
    "\n",
    "# Read the ASC file as a numpy array\n",
    "asc_arr = asc_ds.ReadAsArray()\n",
    "\n",
    "# Close the GDAL dataset\n",
    "asc_ds = None\n",
    "\n",
    "# Create a GeoDataFrame from the ASC array, geotransform and projection\n",
    "asc_gdf = gpd.GeoDataFrame.from_features(\n",
    "    gdal.polygonize(asc_arr, None, options=[\"8CONNECTED=8\"]),\n",
    "    crs=asc_proj\n",
    ")\n",
    "\n",
    "# Set the column name of the ASC values\n",
    "asc_gdf.columns = [\"value\", \"geometry\"]\n",
    "\n",
    "# Open the gpkg file as a GeoDataFrame\n",
    "#gpkg_gdf = gpd.read_file(\"file.gpkg\")\n",
    "\n",
    "# Perform a spatial join to extract the zones that intersect with the ASC file\n",
    "zones_gdf = gpd.sjoin(asc_gdf, gpkg_gdf, how=\"inner\", op=\"intersects\")\n",
    "\n",
    "# Save the zones as a new gpkg file\n",
    "zones_gdf.to_file(\"zones.gpkg\", driver=\"GPKG\")"
   ]
  },
  {
   "attachments": {},
   "cell_type": "markdown",
   "metadata": {},
   "source": [
    "### second method"
   ]
  },
  {
   "cell_type": "code",
   "execution_count": 5,
   "metadata": {},
   "outputs": [
    {
     "data": {
      "text/plain": [
       "5"
      ]
     },
     "execution_count": 5,
     "metadata": {},
     "output_type": "execute_result"
    }
   ],
   "source": [
    "# Get the spatial reference of the dataset and extract the projection information:\n",
    "proj_info = asc_ds.GetProjection()\n",
    "spatial_ref = osr.SpatialReference()\n",
    "spatial_ref.ImportFromWkt(proj_info)"
   ]
  },
  {
   "cell_type": "code",
   "execution_count": 19,
   "metadata": {},
   "outputs": [
    {
     "data": {
      "text/plain": [
       "''"
      ]
     },
     "execution_count": 19,
     "metadata": {},
     "output_type": "execute_result"
    }
   ],
   "source": [
    "asc_ds.GetProjection()"
   ]
  },
  {
   "cell_type": "code",
   "execution_count": 20,
   "metadata": {},
   "outputs": [
    {
     "data": {
      "text/plain": [
       "(631151.0, 5.0, 0.0, 2134796.75, 0.0, -5.0)"
      ]
     },
     "execution_count": 20,
     "metadata": {},
     "output_type": "execute_result"
    }
   ],
   "source": [
    "# Extract the geotransform of the dataset:\n",
    "geotransform = asc_ds.GetGeoTransform()\n",
    "geotransform"
   ]
  },
  {
   "cell_type": "code",
   "execution_count": 7,
   "metadata": {},
   "outputs": [],
   "source": [
    "# Read the data from the ASC file and convert it to a numpy array:\n",
    "data = asc_ds.ReadAsArray()"
   ]
  },
  {
   "cell_type": "code",
   "execution_count": 9,
   "metadata": {},
   "outputs": [
    {
     "data": {
      "text/plain": [
       "(1923, 1540)"
      ]
     },
     "execution_count": 9,
     "metadata": {},
     "output_type": "execute_result"
    }
   ],
   "source": [
    "# Identify the number of rows and columns in the dataset:\n",
    "rows, cols = data.shape\n",
    "rows, cols"
   ]
  },
  {
   "cell_type": "code",
   "execution_count": 11,
   "metadata": {},
   "outputs": [
    {
     "data": {
      "text/plain": [
       "(array([631151., 631156., 631161., ..., 638836., 638841., 638846.]),\n",
       " array([2134796.75, 2134791.75, 2134786.75, ..., 2125196.75, 2125191.75,\n",
       "        2125186.75]))"
      ]
     },
     "execution_count": 11,
     "metadata": {},
     "output_type": "execute_result"
    }
   ],
   "source": [
    "# Compute the x and y coordinates for each cell in the dataset:\n",
    "\n",
    "x_coords = np.arange(cols) * geotransform[1] + geotransform[0]\n",
    "y_coords = np.arange(rows) * geotransform[5] + geotransform[3]\n",
    "x_coords, y_coords"
   ]
  },
  {
   "cell_type": "code",
   "execution_count": 16,
   "metadata": {},
   "outputs": [
    {
     "data": {
      "text/plain": [
       "array([[-9999., -9999., -9999., ..., -9999., -9999., -9999.],\n",
       "       [-9999., -9999., -9999., ..., -9999., -9999., -9999.],\n",
       "       [-9999., -9999., -9999., ..., -9999., -9999., -9999.],\n",
       "       ...,\n",
       "       [-9999., -9999., -9999., ..., -9999., -9999., -9999.],\n",
       "       [-9999., -9999., -9999., ..., -9999., -9999., -9999.],\n",
       "       [-9999., -9999., -9999., ..., -9999., -9999., -9999.]],\n",
       "      dtype=float32)"
      ]
     },
     "execution_count": 16,
     "metadata": {},
     "output_type": "execute_result"
    }
   ],
   "source": [
    "data"
   ]
  },
  {
   "cell_type": "code",
   "execution_count": 15,
   "metadata": {},
   "outputs": [
    {
     "data": {
      "text/html": [
       "<div>\n",
       "<style scoped>\n",
       "    .dataframe tbody tr th:only-of-type {\n",
       "        vertical-align: middle;\n",
       "    }\n",
       "\n",
       "    .dataframe tbody tr th {\n",
       "        vertical-align: top;\n",
       "    }\n",
       "\n",
       "    .dataframe thead th {\n",
       "        text-align: right;\n",
       "    }\n",
       "</style>\n",
       "<table border=\"1\" class=\"dataframe\">\n",
       "  <thead>\n",
       "    <tr style=\"text-align: right;\">\n",
       "      <th></th>\n",
       "      <th>CVE_AGEB</th>\n",
       "      <th>geometry</th>\n",
       "    </tr>\n",
       "  </thead>\n",
       "  <tbody>\n",
       "    <tr>\n",
       "      <th>0</th>\n",
       "      <td>0676</td>\n",
       "      <td>POLYGON ((2319182.093 807954.424, 2319286.446 ...</td>\n",
       "    </tr>\n",
       "    <tr>\n",
       "      <th>1</th>\n",
       "      <td>0727</td>\n",
       "      <td>POLYGON ((2318544.164 807545.878, 2318566.020 ...</td>\n",
       "    </tr>\n",
       "    <tr>\n",
       "      <th>2</th>\n",
       "      <td>1142</td>\n",
       "      <td>POLYGON ((2316882.335 805042.325, 2317096.142 ...</td>\n",
       "    </tr>\n",
       "    <tr>\n",
       "      <th>3</th>\n",
       "      <td>0411</td>\n",
       "      <td>POLYGON ((2319801.226 808675.655, 2319836.062 ...</td>\n",
       "    </tr>\n",
       "    <tr>\n",
       "      <th>4</th>\n",
       "      <td>1068</td>\n",
       "      <td>POLYGON ((2320222.167 809638.735, 2320222.724 ...</td>\n",
       "    </tr>\n",
       "    <tr>\n",
       "      <th>5</th>\n",
       "      <td>0708</td>\n",
       "      <td>POLYGON ((2319089.306 806584.763, 2319031.093 ...</td>\n",
       "    </tr>\n",
       "    <tr>\n",
       "      <th>6</th>\n",
       "      <td>1458</td>\n",
       "      <td>POLYGON ((2317691.004 805411.285, 2317691.315 ...</td>\n",
       "    </tr>\n",
       "    <tr>\n",
       "      <th>7</th>\n",
       "      <td>0318</td>\n",
       "      <td>POLYGON ((2320007.377 807574.674, 2320007.120 ...</td>\n",
       "    </tr>\n",
       "    <tr>\n",
       "      <th>8</th>\n",
       "      <td>0680</td>\n",
       "      <td>POLYGON ((2318612.394 807783.209, 2318620.778 ...</td>\n",
       "    </tr>\n",
       "    <tr>\n",
       "      <th>9</th>\n",
       "      <td>0712</td>\n",
       "      <td>POLYGON ((2319624.770 806222.448, 2319536.796 ...</td>\n",
       "    </tr>\n",
       "    <tr>\n",
       "      <th>10</th>\n",
       "      <td>0746</td>\n",
       "      <td>POLYGON ((2319168.045 805757.004, 2319066.318 ...</td>\n",
       "    </tr>\n",
       "    <tr>\n",
       "      <th>11</th>\n",
       "      <td>0750</td>\n",
       "      <td>POLYGON ((2318709.383 806131.297, 2318709.787 ...</td>\n",
       "    </tr>\n",
       "    <tr>\n",
       "      <th>12</th>\n",
       "      <td>1227</td>\n",
       "      <td>POLYGON ((2320812.466 809319.373, 2320723.381 ...</td>\n",
       "    </tr>\n",
       "    <tr>\n",
       "      <th>13</th>\n",
       "      <td>1265</td>\n",
       "      <td>POLYGON ((2318669.426 806391.479, 2318638.372 ...</td>\n",
       "    </tr>\n",
       "    <tr>\n",
       "      <th>14</th>\n",
       "      <td>127A</td>\n",
       "      <td>POLYGON ((2317983.174 806327.146, 2317983.344 ...</td>\n",
       "    </tr>\n",
       "    <tr>\n",
       "      <th>15</th>\n",
       "      <td>0801</td>\n",
       "      <td>POLYGON ((2319196.848 804654.646, 2319066.855 ...</td>\n",
       "    </tr>\n",
       "    <tr>\n",
       "      <th>16</th>\n",
       "      <td>0835</td>\n",
       "      <td>POLYGON ((2320702.976 807922.760, 2320703.227 ...</td>\n",
       "    </tr>\n",
       "    <tr>\n",
       "      <th>17</th>\n",
       "      <td>0924</td>\n",
       "      <td>POLYGON ((2321712.109 808848.725, 2321709.887 ...</td>\n",
       "    </tr>\n",
       "    <tr>\n",
       "      <th>18</th>\n",
       "      <td>1439</td>\n",
       "      <td>POLYGON ((2317557.940 804200.555, 2317520.999 ...</td>\n",
       "    </tr>\n",
       "    <tr>\n",
       "      <th>19</th>\n",
       "      <td>0322</td>\n",
       "      <td>POLYGON ((2319993.579 806741.962, 2319987.668 ...</td>\n",
       "    </tr>\n",
       "    <tr>\n",
       "      <th>20</th>\n",
       "      <td>077A</td>\n",
       "      <td>POLYGON ((2319684.287 805356.752, 2319558.334 ...</td>\n",
       "    </tr>\n",
       "    <tr>\n",
       "      <th>21</th>\n",
       "      <td>1528</td>\n",
       "      <td>POLYGON ((2317925.780 805734.024, 2317931.343 ...</td>\n",
       "    </tr>\n",
       "    <tr>\n",
       "      <th>22</th>\n",
       "      <td>1053</td>\n",
       "      <td>POLYGON ((2320584.490 808795.663, 2320592.833 ...</td>\n",
       "    </tr>\n",
       "    <tr>\n",
       "      <th>23</th>\n",
       "      <td>1072</td>\n",
       "      <td>POLYGON ((2319980.458 808967.397, 2319999.627 ...</td>\n",
       "    </tr>\n",
       "    <tr>\n",
       "      <th>24</th>\n",
       "      <td>0731</td>\n",
       "      <td>POLYGON ((2318141.191 806598.983, 2318138.531 ...</td>\n",
       "    </tr>\n",
       "    <tr>\n",
       "      <th>25</th>\n",
       "      <td>0273</td>\n",
       "      <td>POLYGON ((2324927.977 809515.545, 2324926.931 ...</td>\n",
       "    </tr>\n",
       "    <tr>\n",
       "      <th>26</th>\n",
       "      <td>0362</td>\n",
       "      <td>POLYGON ((2318937.763 808652.295, 2318936.442 ...</td>\n",
       "    </tr>\n",
       "  </tbody>\n",
       "</table>\n",
       "</div>"
      ],
      "text/plain": [
       "   CVE_AGEB                                           geometry\n",
       "0      0676  POLYGON ((2319182.093 807954.424, 2319286.446 ...\n",
       "1      0727  POLYGON ((2318544.164 807545.878, 2318566.020 ...\n",
       "2      1142  POLYGON ((2316882.335 805042.325, 2317096.142 ...\n",
       "3      0411  POLYGON ((2319801.226 808675.655, 2319836.062 ...\n",
       "4      1068  POLYGON ((2320222.167 809638.735, 2320222.724 ...\n",
       "5      0708  POLYGON ((2319089.306 806584.763, 2319031.093 ...\n",
       "6      1458  POLYGON ((2317691.004 805411.285, 2317691.315 ...\n",
       "7      0318  POLYGON ((2320007.377 807574.674, 2320007.120 ...\n",
       "8      0680  POLYGON ((2318612.394 807783.209, 2318620.778 ...\n",
       "9      0712  POLYGON ((2319624.770 806222.448, 2319536.796 ...\n",
       "10     0746  POLYGON ((2319168.045 805757.004, 2319066.318 ...\n",
       "11     0750  POLYGON ((2318709.383 806131.297, 2318709.787 ...\n",
       "12     1227  POLYGON ((2320812.466 809319.373, 2320723.381 ...\n",
       "13     1265  POLYGON ((2318669.426 806391.479, 2318638.372 ...\n",
       "14     127A  POLYGON ((2317983.174 806327.146, 2317983.344 ...\n",
       "15     0801  POLYGON ((2319196.848 804654.646, 2319066.855 ...\n",
       "16     0835  POLYGON ((2320702.976 807922.760, 2320703.227 ...\n",
       "17     0924  POLYGON ((2321712.109 808848.725, 2321709.887 ...\n",
       "18     1439  POLYGON ((2317557.940 804200.555, 2317520.999 ...\n",
       "19     0322  POLYGON ((2319993.579 806741.962, 2319987.668 ...\n",
       "20     077A  POLYGON ((2319684.287 805356.752, 2319558.334 ...\n",
       "21     1528  POLYGON ((2317925.780 805734.024, 2317931.343 ...\n",
       "22     1053  POLYGON ((2320584.490 808795.663, 2320592.833 ...\n",
       "23     1072  POLYGON ((2319980.458 808967.397, 2319999.627 ...\n",
       "24     0731  POLYGON ((2318141.191 806598.983, 2318138.531 ...\n",
       "25     0273  POLYGON ((2324927.977 809515.545, 2324926.931 ...\n",
       "26     0362  POLYGON ((2318937.763 808652.295, 2318936.442 ..."
      ]
     },
     "execution_count": 15,
     "metadata": {},
     "output_type": "execute_result"
    }
   ],
   "source": [
    "gpkg_gdf"
   ]
  },
  {
   "cell_type": "code",
   "execution_count": null,
   "metadata": {},
   "outputs": [],
   "source": []
  }
 ],
 "metadata": {
  "kernelspec": {
   "display_name": "Python 3",
   "language": "python",
   "name": "python3"
  },
  "language_info": {
   "codemirror_mode": {
    "name": "ipython",
    "version": 3
   },
   "file_extension": ".py",
   "mimetype": "text/x-python",
   "name": "python",
   "nbconvert_exporter": "python",
   "pygments_lexer": "ipython3",
   "version": "3.11.2"
  },
  "orig_nbformat": 4,
  "vscode": {
   "interpreter": {
    "hash": "c3503f95e0e8f4afdf6702396a7a2a29cae9f67572acfe092405dcaa2579b817"
   }
  }
 },
 "nbformat": 4,
 "nbformat_minor": 2
}
