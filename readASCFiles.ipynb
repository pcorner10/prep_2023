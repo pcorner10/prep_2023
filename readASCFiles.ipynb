{
 "cells": [
  {
   "attachments": {},
   "cell_type": "markdown",
   "metadata": {},
   "source": [
    "# Read ASC files"
   ]
  },
  {
   "attachments": {},
   "cell_type": "markdown",
   "metadata": {},
   "source": [
    "## Import libraries"
   ]
  },
  {
   "cell_type": "code",
   "execution_count": 1,
   "metadata": {},
   "outputs": [],
   "source": [
    "import glob, os\n",
    "import pandas as pd\n",
    "import numpy as np\n",
    "import matplotlib.pyplot as plt\n",
    "import geopandas as gpd\n",
    "import rasterio as rio"
   ]
  },
  {
   "attachments": {},
   "cell_type": "markdown",
   "metadata": {},
   "source": [
    "## Read DENUE file"
   ]
  },
  {
   "cell_type": "code",
   "execution_count": 22,
   "metadata": {},
   "outputs": [
    {
     "data": {
      "text/html": [
       "<div>\n",
       "<style scoped>\n",
       "    .dataframe tbody tr th:only-of-type {\n",
       "        vertical-align: middle;\n",
       "    }\n",
       "\n",
       "    .dataframe tbody tr th {\n",
       "        vertical-align: top;\n",
       "    }\n",
       "\n",
       "    .dataframe thead th {\n",
       "        text-align: right;\n",
       "    }\n",
       "</style>\n",
       "<table border=\"1\" class=\"dataframe\">\n",
       "  <thead>\n",
       "    <tr style=\"text-align: right;\">\n",
       "      <th></th>\n",
       "      <th>localidad</th>\n",
       "      <th>ageb</th>\n",
       "      <th>manzana</th>\n",
       "      <th>nom_estab</th>\n",
       "      <th>codigo_act</th>\n",
       "      <th>nombre_act</th>\n",
       "      <th>geometry</th>\n",
       "    </tr>\n",
       "  </thead>\n",
       "  <tbody>\n",
       "    <tr>\n",
       "      <th>0</th>\n",
       "      <td>Colima</td>\n",
       "      <td>0727</td>\n",
       "      <td>031</td>\n",
       "      <td>FARMACIA INTERCAMBIABLE</td>\n",
       "      <td>464111</td>\n",
       "      <td>Farmacias sin minisúper</td>\n",
       "      <td>POINT (633121.957 2128794.720)</td>\n",
       "    </tr>\n",
       "    <tr>\n",
       "      <th>1</th>\n",
       "      <td>Colima</td>\n",
       "      <td>0746</td>\n",
       "      <td>034</td>\n",
       "      <td>FARMACIA GUADALUPANA</td>\n",
       "      <td>464112</td>\n",
       "      <td>Farmacias con minisúper</td>\n",
       "      <td>POINT (633791.822 2128170.288)</td>\n",
       "    </tr>\n",
       "    <tr>\n",
       "      <th>2</th>\n",
       "      <td>Colima</td>\n",
       "      <td>0712</td>\n",
       "      <td>006</td>\n",
       "      <td>FARMACIA NUEVA IMPERIAL</td>\n",
       "      <td>464111</td>\n",
       "      <td>Farmacias sin minisúper</td>\n",
       "      <td>POINT (634823.711 2128769.626)</td>\n",
       "    </tr>\n",
       "    <tr>\n",
       "      <th>3</th>\n",
       "      <td>Colima</td>\n",
       "      <td>0750</td>\n",
       "      <td>003</td>\n",
       "      <td>FARMACIA MI BARRIO</td>\n",
       "      <td>464111</td>\n",
       "      <td>Farmacias sin minisúper</td>\n",
       "      <td>POINT (633641.784 2128038.406)</td>\n",
       "    </tr>\n",
       "    <tr>\n",
       "      <th>4</th>\n",
       "      <td>Colima</td>\n",
       "      <td>0750</td>\n",
       "      <td>010</td>\n",
       "      <td>FARMACIA LA PROVIDENCIA</td>\n",
       "      <td>464111</td>\n",
       "      <td>Farmacias sin minisúper</td>\n",
       "      <td>POINT (633457.022 2127859.270)</td>\n",
       "    </tr>\n",
       "  </tbody>\n",
       "</table>\n",
       "</div>"
      ],
      "text/plain": [
       "  localidad  ageb manzana                nom_estab codigo_act  \\\n",
       "0    Colima  0727     031  FARMACIA INTERCAMBIABLE     464111   \n",
       "1    Colima  0746     034     FARMACIA GUADALUPANA     464112   \n",
       "2    Colima  0712     006  FARMACIA NUEVA IMPERIAL     464111   \n",
       "3    Colima  0750     003       FARMACIA MI BARRIO     464111   \n",
       "4    Colima  0750     010  FARMACIA LA PROVIDENCIA     464111   \n",
       "\n",
       "                nombre_act                        geometry  \n",
       "0  Farmacias sin minisúper  POINT (633121.957 2128794.720)  \n",
       "1  Farmacias con minisúper  POINT (633791.822 2128170.288)  \n",
       "2  Farmacias sin minisúper  POINT (634823.711 2128769.626)  \n",
       "3  Farmacias sin minisúper  POINT (633641.784 2128038.406)  \n",
       "4  Farmacias sin minisúper  POINT (633457.022 2127859.270)  "
      ]
     },
     "execution_count": 22,
     "metadata": {},
     "output_type": "execute_result"
    }
   ],
   "source": [
    "gdf = gpd.read_file('data/denue/denue_inegi_final.gpkg')\n",
    "gdf.drop(columns=['cve_loc',\"numero_ext\",\"fecha_alta\"], inplace=True)\n",
    "gdf.head()"
   ]
  },
  {
   "attachments": {},
   "cell_type": "markdown",
   "metadata": {},
   "source": [
    "## Ubicación de los archivos ASC"
   ]
  },
  {
   "cell_type": "code",
   "execution_count": 3,
   "metadata": {},
   "outputs": [
    {
     "data": {
      "text/plain": [
       "['data/Rasters\\\\Hydraulic\\\\Depth____0.0.asc',\n",
       " 'data/Rasters\\\\Hydraulic\\\\Depth____10200.0.asc',\n",
       " 'data/Rasters\\\\Hydraulic\\\\Depth____10500.0.asc',\n",
       " 'data/Rasters\\\\Hydraulic\\\\Depth____10800.0.asc',\n",
       " 'data/Rasters\\\\Hydraulic\\\\Depth____11100.0.asc']"
      ]
     },
     "execution_count": 3,
     "metadata": {},
     "output_type": "execute_result"
    }
   ],
   "source": [
    "asc_files = glob.glob('data/Rasters/*/*.asc')\n",
    "asc_files[:5]"
   ]
  },
  {
   "attachments": {},
   "cell_type": "markdown",
   "metadata": {},
   "source": [
    "# Read SINGLE ASC file"
   ]
  },
  {
   "cell_type": "code",
   "execution_count": 34,
   "metadata": {},
   "outputs": [
    {
     "data": {
      "text/plain": [
       "'Depth'"
      ]
     },
     "execution_count": 34,
     "metadata": {},
     "output_type": "execute_result"
    }
   ],
   "source": [
    "variable = asc_files[0].split('\\\\')[2].split('_')[0]\n",
    "variable"
   ]
  },
  {
   "cell_type": "code",
   "execution_count": 36,
   "metadata": {},
   "outputs": [
    {
     "data": {
      "text/plain": [
       "'0.0'"
      ]
     },
     "execution_count": 36,
     "metadata": {},
     "output_type": "execute_result"
    }
   ],
   "source": [
    "step = asc_files[0].split('\\\\')[2].split('_')[-1][:-4]\n",
    "step"
   ]
  },
  {
   "cell_type": "code",
   "execution_count": 8,
   "metadata": {},
   "outputs": [
    {
     "data": {
      "text/plain": [
       "(1923, 1540)"
      ]
     },
     "execution_count": 8,
     "metadata": {},
     "output_type": "execute_result"
    }
   ],
   "source": [
    "grid = np.loadtxt(asc_files[0], skiprows=6)\n",
    "null_value = -9999.\n",
    "grid[grid == null_value] = np.nan\n",
    "grid.shape"
   ]
  },
  {
   "cell_type": "code",
   "execution_count": 37,
   "metadata": {},
   "outputs": [],
   "source": [
    "def read_meta(file_src):\n",
    "  meta = {}\n",
    "  with open(file_src, 'r') as f:\n",
    "    for i in range(6):\n",
    "      line = f.readline()\n",
    "      \n",
    "      # remove empty spaces to keep only one\n",
    "      line = ' '.join(line.split())\n",
    "      \n",
    "      # split line into key and value\n",
    "      key, value = line.split(' ')\n",
    "      \n",
    "      # add key and value to dictionary\n",
    "      meta[key] = value\n",
    "  return meta"
   ]
  },
  {
   "attachments": {},
   "cell_type": "markdown",
   "metadata": {},
   "source": [
    "# Read MULTIPLE ASC files"
   ]
  },
  {
   "cell_type": "code",
   "execution_count": 38,
   "metadata": {},
   "outputs": [
    {
     "data": {
      "text/plain": [
       "(array([[nan, nan, nan, ..., nan, nan, nan],\n",
       "        [nan, nan, nan, ..., nan, nan, nan],\n",
       "        [nan, nan, nan, ..., nan, nan, nan],\n",
       "        ...,\n",
       "        [nan, nan, nan, ..., nan, nan, nan],\n",
       "        [nan, nan, nan, ..., nan, nan, nan],\n",
       "        [nan, nan, nan, ..., nan, nan, nan]]),\n",
       " {'NCOLS': '1540',\n",
       "  'NROWS': '1923',\n",
       "  'XLLCENTER': '631153.500000',\n",
       "  'YLLCENTER': '2125184.250000',\n",
       "  'CELLSIZE': '5.000',\n",
       "  'NODATA_VALUE': '-9999.0'},\n",
       " 'Depth',\n",
       " '0.0')"
      ]
     },
     "execution_count": 38,
     "metadata": {},
     "output_type": "execute_result"
    }
   ],
   "source": [
    "def read_asc(file_src):\n",
    "  variable = file_src.split('\\\\')[2].split('_')[0]\n",
    "  step = file_src.split('\\\\')[2].split('_')[-1][:-4]\n",
    "  \n",
    "  meta = read_meta(file_src)\n",
    "  \n",
    "  grid = np.loadtxt(file_src, skiprows=6)\n",
    "  null_value = -9999.\n",
    "  grid[grid == null_value] = np.nan\n",
    "  \n",
    "  return grid, meta, variable, step\n",
    "  \n",
    "  \n",
    "read_asc(asc_files[0])"
   ]
  },
  {
   "cell_type": "code",
   "execution_count": 39,
   "metadata": {},
   "outputs": [],
   "source": [
    "first_grid, first_meta, first_variable, first_step = read_asc(asc_files[0])\n"
   ]
  },
  {
   "cell_type": "code",
   "execution_count": 40,
   "metadata": {},
   "outputs": [
    {
     "data": {
      "text/plain": [
       "array([[nan, nan, nan, ..., nan, nan, nan],\n",
       "       [nan, nan, nan, ..., nan, nan, nan],\n",
       "       [nan, nan, nan, ..., nan, nan, nan],\n",
       "       ...,\n",
       "       [nan, nan, nan, ..., nan, nan, nan],\n",
       "       [nan, nan, nan, ..., nan, nan, nan],\n",
       "       [nan, nan, nan, ..., nan, nan, nan]])"
      ]
     },
     "execution_count": 40,
     "metadata": {},
     "output_type": "execute_result"
    }
   ],
   "source": [
    "first_grid"
   ]
  },
  {
   "cell_type": "code",
   "execution_count": 41,
   "metadata": {},
   "outputs": [
    {
     "data": {
      "text/html": [
       "<div>\n",
       "<style scoped>\n",
       "    .dataframe tbody tr th:only-of-type {\n",
       "        vertical-align: middle;\n",
       "    }\n",
       "\n",
       "    .dataframe tbody tr th {\n",
       "        vertical-align: top;\n",
       "    }\n",
       "\n",
       "    .dataframe thead th {\n",
       "        text-align: right;\n",
       "    }\n",
       "</style>\n",
       "<table border=\"1\" class=\"dataframe\">\n",
       "  <thead>\n",
       "    <tr style=\"text-align: right;\">\n",
       "      <th></th>\n",
       "      <th>localidad</th>\n",
       "      <th>ageb</th>\n",
       "      <th>manzana</th>\n",
       "      <th>nom_estab</th>\n",
       "      <th>codigo_act</th>\n",
       "      <th>nombre_act</th>\n",
       "      <th>geometry</th>\n",
       "    </tr>\n",
       "  </thead>\n",
       "  <tbody>\n",
       "    <tr>\n",
       "      <th>0</th>\n",
       "      <td>Colima</td>\n",
       "      <td>0727</td>\n",
       "      <td>031</td>\n",
       "      <td>FARMACIA INTERCAMBIABLE</td>\n",
       "      <td>464111</td>\n",
       "      <td>Farmacias sin minisúper</td>\n",
       "      <td>POINT (633121.957 2128794.720)</td>\n",
       "    </tr>\n",
       "    <tr>\n",
       "      <th>1</th>\n",
       "      <td>Colima</td>\n",
       "      <td>0746</td>\n",
       "      <td>034</td>\n",
       "      <td>FARMACIA GUADALUPANA</td>\n",
       "      <td>464112</td>\n",
       "      <td>Farmacias con minisúper</td>\n",
       "      <td>POINT (633791.822 2128170.288)</td>\n",
       "    </tr>\n",
       "    <tr>\n",
       "      <th>2</th>\n",
       "      <td>Colima</td>\n",
       "      <td>0712</td>\n",
       "      <td>006</td>\n",
       "      <td>FARMACIA NUEVA IMPERIAL</td>\n",
       "      <td>464111</td>\n",
       "      <td>Farmacias sin minisúper</td>\n",
       "      <td>POINT (634823.711 2128769.626)</td>\n",
       "    </tr>\n",
       "    <tr>\n",
       "      <th>3</th>\n",
       "      <td>Colima</td>\n",
       "      <td>0750</td>\n",
       "      <td>003</td>\n",
       "      <td>FARMACIA MI BARRIO</td>\n",
       "      <td>464111</td>\n",
       "      <td>Farmacias sin minisúper</td>\n",
       "      <td>POINT (633641.784 2128038.406)</td>\n",
       "    </tr>\n",
       "    <tr>\n",
       "      <th>4</th>\n",
       "      <td>Colima</td>\n",
       "      <td>0750</td>\n",
       "      <td>010</td>\n",
       "      <td>FARMACIA LA PROVIDENCIA</td>\n",
       "      <td>464111</td>\n",
       "      <td>Farmacias sin minisúper</td>\n",
       "      <td>POINT (633457.022 2127859.270)</td>\n",
       "    </tr>\n",
       "  </tbody>\n",
       "</table>\n",
       "</div>"
      ],
      "text/plain": [
       "  localidad  ageb manzana                nom_estab codigo_act  \\\n",
       "0    Colima  0727     031  FARMACIA INTERCAMBIABLE     464111   \n",
       "1    Colima  0746     034     FARMACIA GUADALUPANA     464112   \n",
       "2    Colima  0712     006  FARMACIA NUEVA IMPERIAL     464111   \n",
       "3    Colima  0750     003       FARMACIA MI BARRIO     464111   \n",
       "4    Colima  0750     010  FARMACIA LA PROVIDENCIA     464111   \n",
       "\n",
       "                nombre_act                        geometry  \n",
       "0  Farmacias sin minisúper  POINT (633121.957 2128794.720)  \n",
       "1  Farmacias con minisúper  POINT (633791.822 2128170.288)  \n",
       "2  Farmacias sin minisúper  POINT (634823.711 2128769.626)  \n",
       "3  Farmacias sin minisúper  POINT (633641.784 2128038.406)  \n",
       "4  Farmacias sin minisúper  POINT (633457.022 2127859.270)  "
      ]
     },
     "execution_count": 41,
     "metadata": {},
     "output_type": "execute_result"
    }
   ],
   "source": [
    "gdf.head()"
   ]
  },
  {
   "cell_type": "code",
   "execution_count": 57,
   "metadata": {},
   "outputs": [
    {
     "data": {
      "text/plain": [
       "393.6914000000106"
      ]
     },
     "execution_count": 57,
     "metadata": {},
     "output_type": "execute_result"
    }
   ],
   "source": [
    "(633121.957 - 631153.5)/5"
   ]
  },
  {
   "cell_type": "code",
   "execution_count": 110,
   "metadata": {},
   "outputs": [
    {
     "data": {
      "text/html": [
       "<div>\n",
       "<style scoped>\n",
       "    .dataframe tbody tr th:only-of-type {\n",
       "        vertical-align: middle;\n",
       "    }\n",
       "\n",
       "    .dataframe tbody tr th {\n",
       "        vertical-align: top;\n",
       "    }\n",
       "\n",
       "    .dataframe thead th {\n",
       "        text-align: right;\n",
       "    }\n",
       "</style>\n",
       "<table border=\"1\" class=\"dataframe\">\n",
       "  <thead>\n",
       "    <tr style=\"text-align: right;\">\n",
       "      <th></th>\n",
       "      <th>nom_estab</th>\n",
       "      <th>nombre_act</th>\n",
       "      <th>x_asc</th>\n",
       "      <th>y_asc</th>\n",
       "      <th>v_asc</th>\n",
       "      <th>variable</th>\n",
       "      <th>step</th>\n",
       "    </tr>\n",
       "  </thead>\n",
       "  <tbody>\n",
       "    <tr>\n",
       "      <th>0</th>\n",
       "      <td>FARMACIA INTERCAMBIABLE</td>\n",
       "      <td>Farmacias sin minisúper</td>\n",
       "      <td>393</td>\n",
       "      <td>722</td>\n",
       "      <td>NaN</td>\n",
       "      <td>Depth</td>\n",
       "      <td>0.0</td>\n",
       "    </tr>\n",
       "    <tr>\n",
       "      <th>1</th>\n",
       "      <td>FARMACIA GUADALUPANA</td>\n",
       "      <td>Farmacias con minisúper</td>\n",
       "      <td>527</td>\n",
       "      <td>597</td>\n",
       "      <td>NaN</td>\n",
       "      <td>Depth</td>\n",
       "      <td>0.0</td>\n",
       "    </tr>\n",
       "    <tr>\n",
       "      <th>2</th>\n",
       "      <td>FARMACIA NUEVA IMPERIAL</td>\n",
       "      <td>Farmacias sin minisúper</td>\n",
       "      <td>734</td>\n",
       "      <td>717</td>\n",
       "      <td>NaN</td>\n",
       "      <td>Depth</td>\n",
       "      <td>0.0</td>\n",
       "    </tr>\n",
       "    <tr>\n",
       "      <th>3</th>\n",
       "      <td>FARMACIA MI BARRIO</td>\n",
       "      <td>Farmacias sin minisúper</td>\n",
       "      <td>497</td>\n",
       "      <td>570</td>\n",
       "      <td>NaN</td>\n",
       "      <td>Depth</td>\n",
       "      <td>0.0</td>\n",
       "    </tr>\n",
       "    <tr>\n",
       "      <th>4</th>\n",
       "      <td>FARMACIA LA PROVIDENCIA</td>\n",
       "      <td>Farmacias sin minisúper</td>\n",
       "      <td>460</td>\n",
       "      <td>535</td>\n",
       "      <td>NaN</td>\n",
       "      <td>Depth</td>\n",
       "      <td>0.0</td>\n",
       "    </tr>\n",
       "    <tr>\n",
       "      <th>...</th>\n",
       "      <td>...</td>\n",
       "      <td>...</td>\n",
       "      <td>...</td>\n",
       "      <td>...</td>\n",
       "      <td>...</td>\n",
       "      <td>...</td>\n",
       "      <td>...</td>\n",
       "    </tr>\n",
       "    <tr>\n",
       "      <th>180</th>\n",
       "      <td>UNIVERSIDAD MULTITECNICA PROFESIONAL</td>\n",
       "      <td>Escuelas de educación superior del sector privado</td>\n",
       "      <td>334</td>\n",
       "      <td>642</td>\n",
       "      <td>NaN</td>\n",
       "      <td>Depth</td>\n",
       "      <td>0.0</td>\n",
       "    </tr>\n",
       "    <tr>\n",
       "      <th>181</th>\n",
       "      <td>UNIVERSIDAD INETEP INSTITUTO DE EDUCACION TECN...</td>\n",
       "      <td>Escuelas de educación superior del sector privado</td>\n",
       "      <td>428</td>\n",
       "      <td>772</td>\n",
       "      <td>NaN</td>\n",
       "      <td>Depth</td>\n",
       "      <td>0.0</td>\n",
       "    </tr>\n",
       "    <tr>\n",
       "      <th>182</th>\n",
       "      <td>USAER ITINERANTE</td>\n",
       "      <td>Escuelas del sector público de educación para ...</td>\n",
       "      <td>682</td>\n",
       "      <td>880</td>\n",
       "      <td>NaN</td>\n",
       "      <td>Depth</td>\n",
       "      <td>0.0</td>\n",
       "    </tr>\n",
       "    <tr>\n",
       "      <th>183</th>\n",
       "      <td>VILANOVA COLEGIO 06PJN0049Y PREESCOLAR</td>\n",
       "      <td>Escuelas del sector público que combinan diver...</td>\n",
       "      <td>612</td>\n",
       "      <td>687</td>\n",
       "      <td>NaN</td>\n",
       "      <td>Depth</td>\n",
       "      <td>0.0</td>\n",
       "    </tr>\n",
       "    <tr>\n",
       "      <th>184</th>\n",
       "      <td>UNIVERSIDAD UNIVER COLIMA</td>\n",
       "      <td>Escuelas de educación superior del sector privado</td>\n",
       "      <td>584</td>\n",
       "      <td>876</td>\n",
       "      <td>NaN</td>\n",
       "      <td>Depth</td>\n",
       "      <td>0.0</td>\n",
       "    </tr>\n",
       "  </tbody>\n",
       "</table>\n",
       "<p>185 rows × 7 columns</p>\n",
       "</div>"
      ],
      "text/plain": [
       "                                             nom_estab  \\\n",
       "0                              FARMACIA INTERCAMBIABLE   \n",
       "1                                 FARMACIA GUADALUPANA   \n",
       "2                              FARMACIA NUEVA IMPERIAL   \n",
       "3                                   FARMACIA MI BARRIO   \n",
       "4                              FARMACIA LA PROVIDENCIA   \n",
       "..                                                 ...   \n",
       "180               UNIVERSIDAD MULTITECNICA PROFESIONAL   \n",
       "181  UNIVERSIDAD INETEP INSTITUTO DE EDUCACION TECN...   \n",
       "182                                   USAER ITINERANTE   \n",
       "183             VILANOVA COLEGIO 06PJN0049Y PREESCOLAR   \n",
       "184                          UNIVERSIDAD UNIVER COLIMA   \n",
       "\n",
       "                                            nombre_act  x_asc  y_asc  v_asc  \\\n",
       "0                              Farmacias sin minisúper    393    722    NaN   \n",
       "1                              Farmacias con minisúper    527    597    NaN   \n",
       "2                              Farmacias sin minisúper    734    717    NaN   \n",
       "3                              Farmacias sin minisúper    497    570    NaN   \n",
       "4                              Farmacias sin minisúper    460    535    NaN   \n",
       "..                                                 ...    ...    ...    ...   \n",
       "180  Escuelas de educación superior del sector privado    334    642    NaN   \n",
       "181  Escuelas de educación superior del sector privado    428    772    NaN   \n",
       "182  Escuelas del sector público de educación para ...    682    880    NaN   \n",
       "183  Escuelas del sector público que combinan diver...    612    687    NaN   \n",
       "184  Escuelas de educación superior del sector privado    584    876    NaN   \n",
       "\n",
       "    variable step  \n",
       "0      Depth  0.0  \n",
       "1      Depth  0.0  \n",
       "2      Depth  0.0  \n",
       "3      Depth  0.0  \n",
       "4      Depth  0.0  \n",
       "..       ...  ...  \n",
       "180    Depth  0.0  \n",
       "181    Depth  0.0  \n",
       "182    Depth  0.0  \n",
       "183    Depth  0.0  \n",
       "184    Depth  0.0  \n",
       "\n",
       "[185 rows x 7 columns]"
      ]
     },
     "execution_count": 110,
     "metadata": {},
     "output_type": "execute_result"
    }
   ],
   "source": [
    "def work_progress(file_src, gdf, df_final):\n",
    "  grid, meta, variable, step = read_asc(file_src)\n",
    "  \n",
    "  for i, row in gdf.iterrows():\n",
    "    \n",
    "    x_asc = int((row.geometry.centroid.x - float(meta['XLLCENTER']))/float(meta['CELLSIZE']))\n",
    "    y_asc = int((row.geometry.centroid.y - float(meta['YLLCENTER']))/float(meta['CELLSIZE']))\n",
    "    \n",
    "    v_asc = grid[y_asc, x_asc]\n",
    "    \n",
    "    # nom_estab, nombre_act, x_asc, y_asc, v_asc, variable, step\n",
    "    row_df = [[row.nom_estab, row.nombre_act, x_asc, y_asc, v_asc, variable, step]]\n",
    "    row_df = pd.DataFrame(row_df, columns=['nom_estab', 'nombre_act', 'x_asc', 'y_asc', 'v_asc', 'variable', 'step'])\n",
    "    \n",
    "    df_final = pd.concat([df_final, row_df], ignore_index=True)\n",
    "\n",
    "  return df_final\n",
    "  \n",
    "f = work_progress(asc_files[0], gdf, None)\n",
    "f"
   ]
  },
  {
   "cell_type": "code",
   "execution_count": 111,
   "metadata": {},
   "outputs": [],
   "source": [
    "df_full = pd.DataFrame(columns=['nom_estab', 'nombre_act', 'x_asc', 'y_asc', 'v_asc', 'variable', 'step'])\n",
    "for f in asc_files[:2]:\n",
    "  df_full = work_progress(f, gdf, df_full)"
   ]
  },
  {
   "cell_type": "code",
   "execution_count": 112,
   "metadata": {},
   "outputs": [
    {
     "data": {
      "text/html": [
       "<div>\n",
       "<style scoped>\n",
       "    .dataframe tbody tr th:only-of-type {\n",
       "        vertical-align: middle;\n",
       "    }\n",
       "\n",
       "    .dataframe tbody tr th {\n",
       "        vertical-align: top;\n",
       "    }\n",
       "\n",
       "    .dataframe thead th {\n",
       "        text-align: right;\n",
       "    }\n",
       "</style>\n",
       "<table border=\"1\" class=\"dataframe\">\n",
       "  <thead>\n",
       "    <tr style=\"text-align: right;\">\n",
       "      <th></th>\n",
       "      <th>nom_estab</th>\n",
       "      <th>nombre_act</th>\n",
       "      <th>x_asc</th>\n",
       "      <th>y_asc</th>\n",
       "      <th>v_asc</th>\n",
       "      <th>variable</th>\n",
       "      <th>step</th>\n",
       "    </tr>\n",
       "  </thead>\n",
       "  <tbody>\n",
       "    <tr>\n",
       "      <th>0</th>\n",
       "      <td>FARMACIA INTERCAMBIABLE</td>\n",
       "      <td>Farmacias sin minisúper</td>\n",
       "      <td>393</td>\n",
       "      <td>722</td>\n",
       "      <td>NaN</td>\n",
       "      <td>Depth</td>\n",
       "      <td>0.0</td>\n",
       "    </tr>\n",
       "    <tr>\n",
       "      <th>1</th>\n",
       "      <td>FARMACIA GUADALUPANA</td>\n",
       "      <td>Farmacias con minisúper</td>\n",
       "      <td>527</td>\n",
       "      <td>597</td>\n",
       "      <td>NaN</td>\n",
       "      <td>Depth</td>\n",
       "      <td>0.0</td>\n",
       "    </tr>\n",
       "    <tr>\n",
       "      <th>2</th>\n",
       "      <td>FARMACIA NUEVA IMPERIAL</td>\n",
       "      <td>Farmacias sin minisúper</td>\n",
       "      <td>734</td>\n",
       "      <td>717</td>\n",
       "      <td>NaN</td>\n",
       "      <td>Depth</td>\n",
       "      <td>0.0</td>\n",
       "    </tr>\n",
       "    <tr>\n",
       "      <th>3</th>\n",
       "      <td>FARMACIA MI BARRIO</td>\n",
       "      <td>Farmacias sin minisúper</td>\n",
       "      <td>497</td>\n",
       "      <td>570</td>\n",
       "      <td>NaN</td>\n",
       "      <td>Depth</td>\n",
       "      <td>0.0</td>\n",
       "    </tr>\n",
       "    <tr>\n",
       "      <th>4</th>\n",
       "      <td>FARMACIA LA PROVIDENCIA</td>\n",
       "      <td>Farmacias sin minisúper</td>\n",
       "      <td>460</td>\n",
       "      <td>535</td>\n",
       "      <td>NaN</td>\n",
       "      <td>Depth</td>\n",
       "      <td>0.0</td>\n",
       "    </tr>\n",
       "    <tr>\n",
       "      <th>...</th>\n",
       "      <td>...</td>\n",
       "      <td>...</td>\n",
       "      <td>...</td>\n",
       "      <td>...</td>\n",
       "      <td>...</td>\n",
       "      <td>...</td>\n",
       "      <td>...</td>\n",
       "    </tr>\n",
       "    <tr>\n",
       "      <th>365</th>\n",
       "      <td>UNIVERSIDAD MULTITECNICA PROFESIONAL</td>\n",
       "      <td>Escuelas de educación superior del sector privado</td>\n",
       "      <td>334</td>\n",
       "      <td>642</td>\n",
       "      <td>NaN</td>\n",
       "      <td>Depth</td>\n",
       "      <td>10200.0</td>\n",
       "    </tr>\n",
       "    <tr>\n",
       "      <th>366</th>\n",
       "      <td>UNIVERSIDAD INETEP INSTITUTO DE EDUCACION TECN...</td>\n",
       "      <td>Escuelas de educación superior del sector privado</td>\n",
       "      <td>428</td>\n",
       "      <td>772</td>\n",
       "      <td>1.053163</td>\n",
       "      <td>Depth</td>\n",
       "      <td>10200.0</td>\n",
       "    </tr>\n",
       "    <tr>\n",
       "      <th>367</th>\n",
       "      <td>USAER ITINERANTE</td>\n",
       "      <td>Escuelas del sector público de educación para ...</td>\n",
       "      <td>682</td>\n",
       "      <td>880</td>\n",
       "      <td>NaN</td>\n",
       "      <td>Depth</td>\n",
       "      <td>10200.0</td>\n",
       "    </tr>\n",
       "    <tr>\n",
       "      <th>368</th>\n",
       "      <td>VILANOVA COLEGIO 06PJN0049Y PREESCOLAR</td>\n",
       "      <td>Escuelas del sector público que combinan diver...</td>\n",
       "      <td>612</td>\n",
       "      <td>687</td>\n",
       "      <td>NaN</td>\n",
       "      <td>Depth</td>\n",
       "      <td>10200.0</td>\n",
       "    </tr>\n",
       "    <tr>\n",
       "      <th>369</th>\n",
       "      <td>UNIVERSIDAD UNIVER COLIMA</td>\n",
       "      <td>Escuelas de educación superior del sector privado</td>\n",
       "      <td>584</td>\n",
       "      <td>876</td>\n",
       "      <td>NaN</td>\n",
       "      <td>Depth</td>\n",
       "      <td>10200.0</td>\n",
       "    </tr>\n",
       "  </tbody>\n",
       "</table>\n",
       "<p>370 rows × 7 columns</p>\n",
       "</div>"
      ],
      "text/plain": [
       "                                             nom_estab  \\\n",
       "0                              FARMACIA INTERCAMBIABLE   \n",
       "1                                 FARMACIA GUADALUPANA   \n",
       "2                              FARMACIA NUEVA IMPERIAL   \n",
       "3                                   FARMACIA MI BARRIO   \n",
       "4                              FARMACIA LA PROVIDENCIA   \n",
       "..                                                 ...   \n",
       "365               UNIVERSIDAD MULTITECNICA PROFESIONAL   \n",
       "366  UNIVERSIDAD INETEP INSTITUTO DE EDUCACION TECN...   \n",
       "367                                   USAER ITINERANTE   \n",
       "368             VILANOVA COLEGIO 06PJN0049Y PREESCOLAR   \n",
       "369                          UNIVERSIDAD UNIVER COLIMA   \n",
       "\n",
       "                                            nombre_act x_asc y_asc     v_asc  \\\n",
       "0                              Farmacias sin minisúper   393   722       NaN   \n",
       "1                              Farmacias con minisúper   527   597       NaN   \n",
       "2                              Farmacias sin minisúper   734   717       NaN   \n",
       "3                              Farmacias sin minisúper   497   570       NaN   \n",
       "4                              Farmacias sin minisúper   460   535       NaN   \n",
       "..                                                 ...   ...   ...       ...   \n",
       "365  Escuelas de educación superior del sector privado   334   642       NaN   \n",
       "366  Escuelas de educación superior del sector privado   428   772  1.053163   \n",
       "367  Escuelas del sector público de educación para ...   682   880       NaN   \n",
       "368  Escuelas del sector público que combinan diver...   612   687       NaN   \n",
       "369  Escuelas de educación superior del sector privado   584   876       NaN   \n",
       "\n",
       "    variable     step  \n",
       "0      Depth      0.0  \n",
       "1      Depth      0.0  \n",
       "2      Depth      0.0  \n",
       "3      Depth      0.0  \n",
       "4      Depth      0.0  \n",
       "..       ...      ...  \n",
       "365    Depth  10200.0  \n",
       "366    Depth  10200.0  \n",
       "367    Depth  10200.0  \n",
       "368    Depth  10200.0  \n",
       "369    Depth  10200.0  \n",
       "\n",
       "[370 rows x 7 columns]"
      ]
     },
     "execution_count": 112,
     "metadata": {},
     "output_type": "execute_result"
    }
   ],
   "source": [
    "df_full"
   ]
  },
  {
   "cell_type": "code",
   "execution_count": null,
   "metadata": {},
   "outputs": [],
   "source": []
  }
 ],
 "metadata": {
  "kernelspec": {
   "display_name": "Python 3",
   "language": "python",
   "name": "python3"
  },
  "language_info": {
   "codemirror_mode": {
    "name": "ipython",
    "version": 3
   },
   "file_extension": ".py",
   "mimetype": "text/x-python",
   "name": "python",
   "nbconvert_exporter": "python",
   "pygments_lexer": "ipython3",
   "version": "3.10.9"
  },
  "orig_nbformat": 4,
  "vscode": {
   "interpreter": {
    "hash": "c3503f95e0e8f4afdf6702396a7a2a29cae9f67572acfe092405dcaa2579b817"
   }
  }
 },
 "nbformat": 4,
 "nbformat_minor": 2
}
