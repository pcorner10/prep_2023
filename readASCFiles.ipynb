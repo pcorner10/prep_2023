{
 "cells": [
  {
   "attachments": {},
   "cell_type": "markdown",
   "metadata": {},
   "source": [
    "# Read ASC files"
   ]
  },
  {
   "attachments": {},
   "cell_type": "markdown",
   "metadata": {},
   "source": [
    "## Import libraries"
   ]
  },
  {
   "cell_type": "code",
   "execution_count": 14,
   "metadata": {},
   "outputs": [
    {
     "ename": "ModuleNotFoundError",
     "evalue": "No module named 'gdal'",
     "output_type": "error",
     "traceback": [
      "\u001b[1;31m---------------------------------------------------------------------------\u001b[0m",
      "\u001b[1;31mModuleNotFoundError\u001b[0m                       Traceback (most recent call last)",
      "Cell \u001b[1;32mIn[14], line 7\u001b[0m\n\u001b[0;32m      5\u001b[0m \u001b[39mimport\u001b[39;00m \u001b[39mgeopandas\u001b[39;00m \u001b[39mas\u001b[39;00m \u001b[39mgpd\u001b[39;00m\n\u001b[0;32m      6\u001b[0m \u001b[39mimport\u001b[39;00m \u001b[39mrasterio\u001b[39;00m \u001b[39mas\u001b[39;00m \u001b[39mrio\u001b[39;00m\n\u001b[1;32m----> 7\u001b[0m \u001b[39mimport\u001b[39;00m \u001b[39mgdal\u001b[39;00m\n",
      "\u001b[1;31mModuleNotFoundError\u001b[0m: No module named 'gdal'"
     ]
    }
   ],
   "source": [
    "import glob, os\n",
    "import pandas as pd\n",
    "import numpy as np\n",
    "import matplotlib.pyplot as plt\n",
    "import geopandas as gpd\n",
    "import rasterio as rio\n",
    "import gdal"
   ]
  },
  {
   "attachments": {},
   "cell_type": "markdown",
   "metadata": {},
   "source": [
    "## Read DENUE file"
   ]
  },
  {
   "cell_type": "code",
   "execution_count": 13,
   "metadata": {},
   "outputs": [
    {
     "data": {
      "text/html": [
       "<div>\n",
       "<style scoped>\n",
       "    .dataframe tbody tr th:only-of-type {\n",
       "        vertical-align: middle;\n",
       "    }\n",
       "\n",
       "    .dataframe tbody tr th {\n",
       "        vertical-align: top;\n",
       "    }\n",
       "\n",
       "    .dataframe thead th {\n",
       "        text-align: right;\n",
       "    }\n",
       "</style>\n",
       "<table border=\"1\" class=\"dataframe\">\n",
       "  <thead>\n",
       "    <tr style=\"text-align: right;\">\n",
       "      <th></th>\n",
       "      <th>CVE_AGEB</th>\n",
       "      <th>geometry</th>\n",
       "    </tr>\n",
       "  </thead>\n",
       "  <tbody>\n",
       "    <tr>\n",
       "      <th>0</th>\n",
       "      <td>0676</td>\n",
       "      <td>POLYGON ((2319182.093 807954.424, 2319286.446 ...</td>\n",
       "    </tr>\n",
       "    <tr>\n",
       "      <th>1</th>\n",
       "      <td>0727</td>\n",
       "      <td>POLYGON ((2318544.164 807545.878, 2318566.020 ...</td>\n",
       "    </tr>\n",
       "    <tr>\n",
       "      <th>2</th>\n",
       "      <td>1142</td>\n",
       "      <td>POLYGON ((2316882.335 805042.325, 2317096.142 ...</td>\n",
       "    </tr>\n",
       "    <tr>\n",
       "      <th>3</th>\n",
       "      <td>0411</td>\n",
       "      <td>POLYGON ((2319801.226 808675.655, 2319836.062 ...</td>\n",
       "    </tr>\n",
       "    <tr>\n",
       "      <th>4</th>\n",
       "      <td>1068</td>\n",
       "      <td>POLYGON ((2320222.167 809638.735, 2320222.724 ...</td>\n",
       "    </tr>\n",
       "  </tbody>\n",
       "</table>\n",
       "</div>"
      ],
      "text/plain": [
       "  CVE_AGEB                                           geometry\n",
       "0     0676  POLYGON ((2319182.093 807954.424, 2319286.446 ...\n",
       "1     0727  POLYGON ((2318544.164 807545.878, 2318566.020 ...\n",
       "2     1142  POLYGON ((2316882.335 805042.325, 2317096.142 ...\n",
       "3     0411  POLYGON ((2319801.226 808675.655, 2319836.062 ...\n",
       "4     1068  POLYGON ((2320222.167 809638.735, 2320222.724 ..."
      ]
     },
     "execution_count": 13,
     "metadata": {},
     "output_type": "execute_result"
    }
   ],
   "source": [
    "gdf = gpd.read_file('data/colima/agebs.gpkg')\n",
    "gdf = gdf[[\"CVE_AGEB\", \"geometry\"]]\n",
    "gdf.head()"
   ]
  },
  {
   "attachments": {},
   "cell_type": "markdown",
   "metadata": {},
   "source": [
    "## GDAL"
   ]
  },
  {
   "cell_type": "code",
   "execution_count": null,
   "metadata": {},
   "outputs": [],
   "source": []
  },
  {
   "attachments": {},
   "cell_type": "markdown",
   "metadata": {},
   "source": [
    "## Ubicación de los archivos ASC"
   ]
  },
  {
   "cell_type": "code",
   "execution_count": 6,
   "metadata": {},
   "outputs": [
    {
     "data": {
      "text/plain": [
       "['data/Rasters\\\\Hydraulic\\\\Depth____0.0.asc',\n",
       " 'data/Rasters\\\\Hydraulic\\\\Depth____10200.0.asc',\n",
       " 'data/Rasters\\\\Hydraulic\\\\Depth____10500.0.asc',\n",
       " 'data/Rasters\\\\Hydraulic\\\\Depth____10800.0.asc',\n",
       " 'data/Rasters\\\\Hydraulic\\\\Depth____11100.0.asc']"
      ]
     },
     "execution_count": 6,
     "metadata": {},
     "output_type": "execute_result"
    }
   ],
   "source": [
    "asc_files = glob.glob('data/Rasters/*/*.asc')\n",
    "asc_files[:5]"
   ]
  },
  {
   "attachments": {},
   "cell_type": "markdown",
   "metadata": {},
   "source": [
    "## GDAL"
   ]
  },
  {
   "cell_type": "code",
   "execution_count": null,
   "metadata": {},
   "outputs": [],
   "source": [
    "# Open the ASC file as a GDAL dataset\n",
    "asc_ds = gdal.Open(\"file.asc\")"
   ]
  },
  {
   "cell_type": "code",
   "execution_count": null,
   "metadata": {},
   "outputs": [],
   "source": [
    "# Import libraries\n",
    "import gdal\n",
    "import geopandas as gpd\n",
    "\n",
    "# Open the ASC file as a GDAL dataset\n",
    "asc_ds = gdal.Open(\"file.asc\")\n",
    "\n",
    "# Get the geotransform and projection of the ASC file\n",
    "asc_gt = asc_ds.GetGeoTransform()\n",
    "asc_proj = asc_ds.GetProjection()\n",
    "\n",
    "# Read the ASC file as a numpy array\n",
    "asc_arr = asc_ds.ReadAsArray()\n",
    "\n",
    "# Close the GDAL dataset\n",
    "asc_ds = None\n",
    "\n",
    "# Create a GeoDataFrame from the ASC array, geotransform and projection\n",
    "asc_gdf = gpd.GeoDataFrame.from_features(\n",
    "    gdal.polygonize(asc_arr, None, options=[\"8CONNECTED=8\"]),\n",
    "    crs=asc_proj\n",
    ")\n",
    "\n",
    "# Set the column name of the ASC values\n",
    "asc_gdf.columns = [\"value\", \"geometry\"]\n",
    "\n",
    "# Open the gpkg file as a GeoDataFrame\n",
    "gpkg_gdf = gpd.read_file(\"file.gpkg\")\n",
    "\n",
    "# Perform a spatial join to extract the zones that intersect with the ASC file\n",
    "zones_gdf = gpd.sjoin(asc_gdf, gpkg_gdf, how=\"inner\", op=\"intersects\")\n",
    "\n",
    "# Save the zones as a new gpkg file\n",
    "zones_gdf.to_file(\"zones.gpkg\", driver=\"GPKG\")"
   ]
  }
 ],
 "metadata": {
  "kernelspec": {
   "display_name": "Python 3",
   "language": "python",
   "name": "python3"
  },
  "language_info": {
   "codemirror_mode": {
    "name": "ipython",
    "version": 3
   },
   "file_extension": ".py",
   "mimetype": "text/x-python",
   "name": "python",
   "nbconvert_exporter": "python",
   "pygments_lexer": "ipython3",
   "version": "3.11.2"
  },
  "orig_nbformat": 4,
  "vscode": {
   "interpreter": {
    "hash": "c3503f95e0e8f4afdf6702396a7a2a29cae9f67572acfe092405dcaa2579b817"
   }
  }
 },
 "nbformat": 4,
 "nbformat_minor": 2
}
